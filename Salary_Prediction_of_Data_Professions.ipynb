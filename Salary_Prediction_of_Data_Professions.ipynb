{
  "nbformat": 4,
  "nbformat_minor": 0,
  "metadata": {
    "colab": {
      "provenance": []
    },
    "kernelspec": {
      "name": "python3",
      "display_name": "Python 3"
    },
    "language_info": {
      "name": "python"
    }
  },
  "cells": [
    {
      "cell_type": "markdown",
      "source": [
        "# Salary Prediction of Data Professions"
      ],
      "metadata": {
        "id": "Nx7NdXm-7X4C"
      }
    },
    {
      "cell_type": "markdown",
      "source": [
        "# Project Pipeline\n",
        "\n",
        "1. **Exploratory Data Analysis (EDA)**:\n",
        "   - Dive into the dataset and conduct comprehensive EDA.\n",
        "   - Unveil valuable insights about data professionals' salaries.\n",
        "   - Involve data visualization, summary statistics, and identify patterns in the data.\n",
        "\n",
        "2. **Feature Engineering**:\n",
        "   - Create new features or transform existing ones to provide additional insights or improve model performance.\n",
        "   - Derive features related to experience, job role, and performance.\n",
        "\n",
        "3. **Data Preprocessing**:\n",
        "   - Prepare the data for model training.\n",
        "   - Handle missing values, encode categorical variables, and scale or normalize features as needed.\n",
        "\n",
        "4. **Machine Learning Model Development**:\n",
        "   - Train various machine learning regression models to predict salaries.\n",
        "   - Experiment with different algorithms such as linear regression, decision trees, random forests, and gradient boosting to find the best-performing model.\n",
        "\n",
        "5. **Model Evaluation**:\n",
        "   - Assess the performance of your models using appropriate evaluation metrics like Mean Absolute Error (MAE), Mean Squared Error (MSE), Root Mean Squared Error (RMSE), and R-squared (R2) score.\n",
        "   - Identify the model that provides the most accurate salary predictions.\n",
        "\n",
        "6. **ML Pipelines and Model Deployment**:\n",
        "   - Create ML Pipelines to streamline the end-to-end machine learning process, from data preprocessing to model training.\n",
        "   - Deploy a model that can generate predictions for unseen data.\n",
        "   - Consider using frameworks like Flask or FastAPI for deployment.\n",
        "\n",
        "7. **Recommendations**:\n",
        "   - Based on your findings and insights from the model, provide actionable recommendations.\n",
        "   - These recommendations can relate to factors influencing salaries and potential strategies for improving earnings in data professions."
      ],
      "metadata": {
        "id": "033Tp9X19HJ5"
      }
    },
    {
      "cell_type": "markdown",
      "source": [
        "# Dataset Overview\n",
        "\n",
        "The dataset contains the following columns:\n",
        "\n",
        "- **FIRST NAME**: First name\n",
        "- **LAST NAME**: Last name\n",
        "- **SEX**: Gender\n",
        "- **DOJ**: Date of joining the company\n",
        "- **CURRENT DATE**: Current date of data\n",
        "- **DESIGNATION**: Job role/designation\n",
        "- **AGE**: Age\n",
        "- **SALARY**: Target variable, the salary of the data professional\n",
        "- **UNIT**: Business unit or department\n",
        "- **LEAVES USED**: Number of leaves used\n",
        "- **LEAVES REMAINING**: Number of leaves remaining\n",
        "- **RATINGS**: Ratings or performance ratings\n",
        "- **PAST EXP**: Past work experience"
      ],
      "metadata": {
        "id": "XjP3xfZxCT1r"
      }
    },
    {
      "cell_type": "markdown",
      "source": [
        "# Exploratory Data Analysis (EDA)"
      ],
      "metadata": {
        "id": "balcKLWlA8ev"
      }
    },
    {
      "cell_type": "code",
      "execution_count": 197,
      "metadata": {
        "id": "7vVanFDO6tx9"
      },
      "outputs": [],
      "source": [
        "# Let's import libraries\n",
        "import pandas as pd"
      ]
    },
    {
      "cell_type": "code",
      "source": [
        "df = pd.read_csv('/content/Salary Prediction of Data Professions.csv')"
      ],
      "metadata": {
        "id": "jYByW32N7rJP"
      },
      "execution_count": 216,
      "outputs": []
    },
    {
      "cell_type": "code",
      "source": [
        "df.columns"
      ],
      "metadata": {
        "colab": {
          "base_uri": "https://localhost:8080/"
        },
        "id": "x7YXiIaaxRqJ",
        "outputId": "321d36f6-9cd3-493d-8a3e-0ed3c1a2add0"
      },
      "execution_count": 218,
      "outputs": [
        {
          "output_type": "execute_result",
          "data": {
            "text/plain": [
              "Index(['FIRST NAME', 'LAST NAME', 'SEX', 'DOJ', 'CURRENT DATE', 'DESIGNATION',\n",
              "       'AGE', 'SALARY', 'UNIT', 'LEAVES USED', 'LEAVES REMAINING', 'RATINGS',\n",
              "       'PAST EXP'],\n",
              "      dtype='object')"
            ]
          },
          "metadata": {},
          "execution_count": 218
        }
      ]
    },
    {
      "cell_type": "code",
      "source": [
        "df['DESIGNATION'].unique()"
      ],
      "metadata": {
        "colab": {
          "base_uri": "https://localhost:8080/"
        },
        "id": "PhSqfSkxx3Z7",
        "outputId": "4752326a-791c-476e-d1fb-71895723297c"
      },
      "execution_count": 220,
      "outputs": [
        {
          "output_type": "execute_result",
          "data": {
            "text/plain": [
              "array(['Analyst', 'Associate', 'Senior Analyst', 'Senior Manager',\n",
              "       'Manager', 'Director'], dtype=object)"
            ]
          },
          "metadata": {},
          "execution_count": 220
        }
      ]
    },
    {
      "cell_type": "code",
      "source": [
        "# Let's look at columns\n",
        "df.columns"
      ],
      "metadata": {
        "colab": {
          "base_uri": "https://localhost:8080/"
        },
        "id": "7q6qaY-M7x5a",
        "outputId": "95427ce5-8265-4a35-eff1-658c418838eb"
      },
      "execution_count": null,
      "outputs": [
        {
          "output_type": "execute_result",
          "data": {
            "text/plain": [
              "Index(['FIRST NAME', 'LAST NAME', 'SEX', 'DOJ', 'CURRENT DATE', 'DESIGNATION',\n",
              "       'AGE', 'SALARY', 'UNIT', 'LEAVES USED', 'LEAVES REMAINING', 'RATINGS',\n",
              "       'PAST EXP'],\n",
              "      dtype='object')"
            ]
          },
          "metadata": {},
          "execution_count": 79
        }
      ]
    },
    {
      "cell_type": "code",
      "source": [
        "# Let's look at first 5 rows\n",
        "df.head()"
      ],
      "metadata": {
        "colab": {
          "base_uri": "https://localhost:8080/",
          "height": 206
        },
        "id": "xjs87Lib9gN6",
        "outputId": "d0c1f35c-c5c3-4fdd-8f6c-ea32fa84b864"
      },
      "execution_count": null,
      "outputs": [
        {
          "output_type": "execute_result",
          "data": {
            "text/plain": [
              "  FIRST NAME   LAST NAME SEX         DOJ CURRENT DATE DESIGNATION   AGE  \\\n",
              "0     TOMASA       ARMEN   F   5-18-2014   01-07-2016     Analyst  21.0   \n",
              "1      ANNIE         NaN   F         NaN   01-07-2016   Associate   NaN   \n",
              "2      OLIVE        ANCY   F   7-28-2014   01-07-2016     Analyst  21.0   \n",
              "3     CHERRY     AQUILAR   F  04-03-2013   01-07-2016     Analyst  22.0   \n",
              "4       LEON  ABOULAHOUD   M  11-20-2014   01-07-2016     Analyst   NaN   \n",
              "\n",
              "   SALARY        UNIT  LEAVES USED  LEAVES REMAINING  RATINGS  PAST EXP  \n",
              "0   44570     Finance         24.0               6.0      2.0         0  \n",
              "1   89207         Web          NaN              13.0      NaN         7  \n",
              "2   40955     Finance         23.0               7.0      3.0         0  \n",
              "3   45550          IT         22.0               8.0      3.0         0  \n",
              "4   43161  Operations         27.0               3.0      NaN         3  "
            ],
            "text/html": [
              "\n",
              "  <div id=\"df-d7f0a10e-93ac-4c35-9b7a-708371e2bf4a\" class=\"colab-df-container\">\n",
              "    <div>\n",
              "<style scoped>\n",
              "    .dataframe tbody tr th:only-of-type {\n",
              "        vertical-align: middle;\n",
              "    }\n",
              "\n",
              "    .dataframe tbody tr th {\n",
              "        vertical-align: top;\n",
              "    }\n",
              "\n",
              "    .dataframe thead th {\n",
              "        text-align: right;\n",
              "    }\n",
              "</style>\n",
              "<table border=\"1\" class=\"dataframe\">\n",
              "  <thead>\n",
              "    <tr style=\"text-align: right;\">\n",
              "      <th></th>\n",
              "      <th>FIRST NAME</th>\n",
              "      <th>LAST NAME</th>\n",
              "      <th>SEX</th>\n",
              "      <th>DOJ</th>\n",
              "      <th>CURRENT DATE</th>\n",
              "      <th>DESIGNATION</th>\n",
              "      <th>AGE</th>\n",
              "      <th>SALARY</th>\n",
              "      <th>UNIT</th>\n",
              "      <th>LEAVES USED</th>\n",
              "      <th>LEAVES REMAINING</th>\n",
              "      <th>RATINGS</th>\n",
              "      <th>PAST EXP</th>\n",
              "    </tr>\n",
              "  </thead>\n",
              "  <tbody>\n",
              "    <tr>\n",
              "      <th>0</th>\n",
              "      <td>TOMASA</td>\n",
              "      <td>ARMEN</td>\n",
              "      <td>F</td>\n",
              "      <td>5-18-2014</td>\n",
              "      <td>01-07-2016</td>\n",
              "      <td>Analyst</td>\n",
              "      <td>21.0</td>\n",
              "      <td>44570</td>\n",
              "      <td>Finance</td>\n",
              "      <td>24.0</td>\n",
              "      <td>6.0</td>\n",
              "      <td>2.0</td>\n",
              "      <td>0</td>\n",
              "    </tr>\n",
              "    <tr>\n",
              "      <th>1</th>\n",
              "      <td>ANNIE</td>\n",
              "      <td>NaN</td>\n",
              "      <td>F</td>\n",
              "      <td>NaN</td>\n",
              "      <td>01-07-2016</td>\n",
              "      <td>Associate</td>\n",
              "      <td>NaN</td>\n",
              "      <td>89207</td>\n",
              "      <td>Web</td>\n",
              "      <td>NaN</td>\n",
              "      <td>13.0</td>\n",
              "      <td>NaN</td>\n",
              "      <td>7</td>\n",
              "    </tr>\n",
              "    <tr>\n",
              "      <th>2</th>\n",
              "      <td>OLIVE</td>\n",
              "      <td>ANCY</td>\n",
              "      <td>F</td>\n",
              "      <td>7-28-2014</td>\n",
              "      <td>01-07-2016</td>\n",
              "      <td>Analyst</td>\n",
              "      <td>21.0</td>\n",
              "      <td>40955</td>\n",
              "      <td>Finance</td>\n",
              "      <td>23.0</td>\n",
              "      <td>7.0</td>\n",
              "      <td>3.0</td>\n",
              "      <td>0</td>\n",
              "    </tr>\n",
              "    <tr>\n",
              "      <th>3</th>\n",
              "      <td>CHERRY</td>\n",
              "      <td>AQUILAR</td>\n",
              "      <td>F</td>\n",
              "      <td>04-03-2013</td>\n",
              "      <td>01-07-2016</td>\n",
              "      <td>Analyst</td>\n",
              "      <td>22.0</td>\n",
              "      <td>45550</td>\n",
              "      <td>IT</td>\n",
              "      <td>22.0</td>\n",
              "      <td>8.0</td>\n",
              "      <td>3.0</td>\n",
              "      <td>0</td>\n",
              "    </tr>\n",
              "    <tr>\n",
              "      <th>4</th>\n",
              "      <td>LEON</td>\n",
              "      <td>ABOULAHOUD</td>\n",
              "      <td>M</td>\n",
              "      <td>11-20-2014</td>\n",
              "      <td>01-07-2016</td>\n",
              "      <td>Analyst</td>\n",
              "      <td>NaN</td>\n",
              "      <td>43161</td>\n",
              "      <td>Operations</td>\n",
              "      <td>27.0</td>\n",
              "      <td>3.0</td>\n",
              "      <td>NaN</td>\n",
              "      <td>3</td>\n",
              "    </tr>\n",
              "  </tbody>\n",
              "</table>\n",
              "</div>\n",
              "    <div class=\"colab-df-buttons\">\n",
              "\n",
              "  <div class=\"colab-df-container\">\n",
              "    <button class=\"colab-df-convert\" onclick=\"convertToInteractive('df-d7f0a10e-93ac-4c35-9b7a-708371e2bf4a')\"\n",
              "            title=\"Convert this dataframe to an interactive table.\"\n",
              "            style=\"display:none;\">\n",
              "\n",
              "  <svg xmlns=\"http://www.w3.org/2000/svg\" height=\"24px\" viewBox=\"0 -960 960 960\">\n",
              "    <path d=\"M120-120v-720h720v720H120Zm60-500h600v-160H180v160Zm220 220h160v-160H400v160Zm0 220h160v-160H400v160ZM180-400h160v-160H180v160Zm440 0h160v-160H620v160ZM180-180h160v-160H180v160Zm440 0h160v-160H620v160Z\"/>\n",
              "  </svg>\n",
              "    </button>\n",
              "\n",
              "  <style>\n",
              "    .colab-df-container {\n",
              "      display:flex;\n",
              "      gap: 12px;\n",
              "    }\n",
              "\n",
              "    .colab-df-convert {\n",
              "      background-color: #E8F0FE;\n",
              "      border: none;\n",
              "      border-radius: 50%;\n",
              "      cursor: pointer;\n",
              "      display: none;\n",
              "      fill: #1967D2;\n",
              "      height: 32px;\n",
              "      padding: 0 0 0 0;\n",
              "      width: 32px;\n",
              "    }\n",
              "\n",
              "    .colab-df-convert:hover {\n",
              "      background-color: #E2EBFA;\n",
              "      box-shadow: 0px 1px 2px rgba(60, 64, 67, 0.3), 0px 1px 3px 1px rgba(60, 64, 67, 0.15);\n",
              "      fill: #174EA6;\n",
              "    }\n",
              "\n",
              "    .colab-df-buttons div {\n",
              "      margin-bottom: 4px;\n",
              "    }\n",
              "\n",
              "    [theme=dark] .colab-df-convert {\n",
              "      background-color: #3B4455;\n",
              "      fill: #D2E3FC;\n",
              "    }\n",
              "\n",
              "    [theme=dark] .colab-df-convert:hover {\n",
              "      background-color: #434B5C;\n",
              "      box-shadow: 0px 1px 3px 1px rgba(0, 0, 0, 0.15);\n",
              "      filter: drop-shadow(0px 1px 2px rgba(0, 0, 0, 0.3));\n",
              "      fill: #FFFFFF;\n",
              "    }\n",
              "  </style>\n",
              "\n",
              "    <script>\n",
              "      const buttonEl =\n",
              "        document.querySelector('#df-d7f0a10e-93ac-4c35-9b7a-708371e2bf4a button.colab-df-convert');\n",
              "      buttonEl.style.display =\n",
              "        google.colab.kernel.accessAllowed ? 'block' : 'none';\n",
              "\n",
              "      async function convertToInteractive(key) {\n",
              "        const element = document.querySelector('#df-d7f0a10e-93ac-4c35-9b7a-708371e2bf4a');\n",
              "        const dataTable =\n",
              "          await google.colab.kernel.invokeFunction('convertToInteractive',\n",
              "                                                    [key], {});\n",
              "        if (!dataTable) return;\n",
              "\n",
              "        const docLinkHtml = 'Like what you see? Visit the ' +\n",
              "          '<a target=\"_blank\" href=https://colab.research.google.com/notebooks/data_table.ipynb>data table notebook</a>'\n",
              "          + ' to learn more about interactive tables.';\n",
              "        element.innerHTML = '';\n",
              "        dataTable['output_type'] = 'display_data';\n",
              "        await google.colab.output.renderOutput(dataTable, element);\n",
              "        const docLink = document.createElement('div');\n",
              "        docLink.innerHTML = docLinkHtml;\n",
              "        element.appendChild(docLink);\n",
              "      }\n",
              "    </script>\n",
              "  </div>\n",
              "\n",
              "\n",
              "<div id=\"df-469cd328-3f76-4e86-b061-e62d4de20090\">\n",
              "  <button class=\"colab-df-quickchart\" onclick=\"quickchart('df-469cd328-3f76-4e86-b061-e62d4de20090')\"\n",
              "            title=\"Suggest charts\"\n",
              "            style=\"display:none;\">\n",
              "\n",
              "<svg xmlns=\"http://www.w3.org/2000/svg\" height=\"24px\"viewBox=\"0 0 24 24\"\n",
              "     width=\"24px\">\n",
              "    <g>\n",
              "        <path d=\"M19 3H5c-1.1 0-2 .9-2 2v14c0 1.1.9 2 2 2h14c1.1 0 2-.9 2-2V5c0-1.1-.9-2-2-2zM9 17H7v-7h2v7zm4 0h-2V7h2v10zm4 0h-2v-4h2v4z\"/>\n",
              "    </g>\n",
              "</svg>\n",
              "  </button>\n",
              "\n",
              "<style>\n",
              "  .colab-df-quickchart {\n",
              "      --bg-color: #E8F0FE;\n",
              "      --fill-color: #1967D2;\n",
              "      --hover-bg-color: #E2EBFA;\n",
              "      --hover-fill-color: #174EA6;\n",
              "      --disabled-fill-color: #AAA;\n",
              "      --disabled-bg-color: #DDD;\n",
              "  }\n",
              "\n",
              "  [theme=dark] .colab-df-quickchart {\n",
              "      --bg-color: #3B4455;\n",
              "      --fill-color: #D2E3FC;\n",
              "      --hover-bg-color: #434B5C;\n",
              "      --hover-fill-color: #FFFFFF;\n",
              "      --disabled-bg-color: #3B4455;\n",
              "      --disabled-fill-color: #666;\n",
              "  }\n",
              "\n",
              "  .colab-df-quickchart {\n",
              "    background-color: var(--bg-color);\n",
              "    border: none;\n",
              "    border-radius: 50%;\n",
              "    cursor: pointer;\n",
              "    display: none;\n",
              "    fill: var(--fill-color);\n",
              "    height: 32px;\n",
              "    padding: 0;\n",
              "    width: 32px;\n",
              "  }\n",
              "\n",
              "  .colab-df-quickchart:hover {\n",
              "    background-color: var(--hover-bg-color);\n",
              "    box-shadow: 0 1px 2px rgba(60, 64, 67, 0.3), 0 1px 3px 1px rgba(60, 64, 67, 0.15);\n",
              "    fill: var(--button-hover-fill-color);\n",
              "  }\n",
              "\n",
              "  .colab-df-quickchart-complete:disabled,\n",
              "  .colab-df-quickchart-complete:disabled:hover {\n",
              "    background-color: var(--disabled-bg-color);\n",
              "    fill: var(--disabled-fill-color);\n",
              "    box-shadow: none;\n",
              "  }\n",
              "\n",
              "  .colab-df-spinner {\n",
              "    border: 2px solid var(--fill-color);\n",
              "    border-color: transparent;\n",
              "    border-bottom-color: var(--fill-color);\n",
              "    animation:\n",
              "      spin 1s steps(1) infinite;\n",
              "  }\n",
              "\n",
              "  @keyframes spin {\n",
              "    0% {\n",
              "      border-color: transparent;\n",
              "      border-bottom-color: var(--fill-color);\n",
              "      border-left-color: var(--fill-color);\n",
              "    }\n",
              "    20% {\n",
              "      border-color: transparent;\n",
              "      border-left-color: var(--fill-color);\n",
              "      border-top-color: var(--fill-color);\n",
              "    }\n",
              "    30% {\n",
              "      border-color: transparent;\n",
              "      border-left-color: var(--fill-color);\n",
              "      border-top-color: var(--fill-color);\n",
              "      border-right-color: var(--fill-color);\n",
              "    }\n",
              "    40% {\n",
              "      border-color: transparent;\n",
              "      border-right-color: var(--fill-color);\n",
              "      border-top-color: var(--fill-color);\n",
              "    }\n",
              "    60% {\n",
              "      border-color: transparent;\n",
              "      border-right-color: var(--fill-color);\n",
              "    }\n",
              "    80% {\n",
              "      border-color: transparent;\n",
              "      border-right-color: var(--fill-color);\n",
              "      border-bottom-color: var(--fill-color);\n",
              "    }\n",
              "    90% {\n",
              "      border-color: transparent;\n",
              "      border-bottom-color: var(--fill-color);\n",
              "    }\n",
              "  }\n",
              "</style>\n",
              "\n",
              "  <script>\n",
              "    async function quickchart(key) {\n",
              "      const quickchartButtonEl =\n",
              "        document.querySelector('#' + key + ' button');\n",
              "      quickchartButtonEl.disabled = true;  // To prevent multiple clicks.\n",
              "      quickchartButtonEl.classList.add('colab-df-spinner');\n",
              "      try {\n",
              "        const charts = await google.colab.kernel.invokeFunction(\n",
              "            'suggestCharts', [key], {});\n",
              "      } catch (error) {\n",
              "        console.error('Error during call to suggestCharts:', error);\n",
              "      }\n",
              "      quickchartButtonEl.classList.remove('colab-df-spinner');\n",
              "      quickchartButtonEl.classList.add('colab-df-quickchart-complete');\n",
              "    }\n",
              "    (() => {\n",
              "      let quickchartButtonEl =\n",
              "        document.querySelector('#df-469cd328-3f76-4e86-b061-e62d4de20090 button');\n",
              "      quickchartButtonEl.style.display =\n",
              "        google.colab.kernel.accessAllowed ? 'block' : 'none';\n",
              "    })();\n",
              "  </script>\n",
              "</div>\n",
              "\n",
              "    </div>\n",
              "  </div>\n"
            ],
            "application/vnd.google.colaboratory.intrinsic+json": {
              "type": "dataframe",
              "variable_name": "df",
              "summary": "{\n  \"name\": \"df\",\n  \"rows\": 2639,\n  \"fields\": [\n    {\n      \"column\": \"FIRST NAME\",\n      \"properties\": {\n        \"dtype\": \"string\",\n        \"num_unique_values\": 2367,\n        \"samples\": [\n          \"WILBUR\",\n          \"SANDI\",\n          \"BROOKS\"\n        ],\n        \"semantic_type\": \"\",\n        \"description\": \"\"\n      }\n    },\n    {\n      \"column\": \"LAST NAME\",\n      \"properties\": {\n        \"dtype\": \"string\",\n        \"num_unique_values\": 2475,\n        \"samples\": [\n          \"AKLEY\",\n          \"ADAMEC\",\n          \"ADELGREN\"\n        ],\n        \"semantic_type\": \"\",\n        \"description\": \"\"\n      }\n    },\n    {\n      \"column\": \"SEX\",\n      \"properties\": {\n        \"dtype\": \"category\",\n        \"num_unique_values\": 2,\n        \"samples\": [\n          \"M\",\n          \"F\"\n        ],\n        \"semantic_type\": \"\",\n        \"description\": \"\"\n      }\n    },\n    {\n      \"column\": \"DOJ\",\n      \"properties\": {\n        \"dtype\": \"object\",\n        \"num_unique_values\": 967,\n        \"samples\": [\n          \"5-27-2014\",\n          \"6-20-2011\"\n        ],\n        \"semantic_type\": \"\",\n        \"description\": \"\"\n      }\n    },\n    {\n      \"column\": \"CURRENT DATE\",\n      \"properties\": {\n        \"dtype\": \"object\",\n        \"num_unique_values\": 1,\n        \"samples\": [\n          \"01-07-2016\"\n        ],\n        \"semantic_type\": \"\",\n        \"description\": \"\"\n      }\n    },\n    {\n      \"column\": \"DESIGNATION\",\n      \"properties\": {\n        \"dtype\": \"category\",\n        \"num_unique_values\": 6,\n        \"samples\": [\n          \"Analyst\"\n        ],\n        \"semantic_type\": \"\",\n        \"description\": \"\"\n      }\n    },\n    {\n      \"column\": \"AGE\",\n      \"properties\": {\n        \"dtype\": \"number\",\n        \"std\": 3.9082280917992382,\n        \"min\": 21.0,\n        \"max\": 45.0,\n        \"num_unique_values\": 25,\n        \"samples\": [\n          29.0\n        ],\n        \"semantic_type\": \"\",\n        \"description\": \"\"\n      }\n    },\n    {\n      \"column\": \"SALARY\",\n      \"properties\": {\n        \"dtype\": \"number\",\n        \"std\": 36876,\n        \"min\": 40001,\n        \"max\": 388112,\n        \"num_unique_values\": 2305,\n        \"samples\": [\n          41452\n        ],\n        \"semantic_type\": \"\",\n        \"description\": \"\"\n      }\n    },\n    {\n      \"column\": \"UNIT\",\n      \"properties\": {\n        \"dtype\": \"category\",\n        \"num_unique_values\": 6,\n        \"samples\": [\n          \"Finance\"\n        ],\n        \"semantic_type\": \"\",\n        \"description\": \"\"\n      }\n    },\n    {\n      \"column\": \"LEAVES USED\",\n      \"properties\": {\n        \"dtype\": \"number\",\n        \"std\": 4.604469156851162,\n        \"min\": 15.0,\n        \"max\": 30.0,\n        \"num_unique_values\": 16,\n        \"samples\": [\n          24.0\n        ],\n        \"semantic_type\": \"\",\n        \"description\": \"\"\n      }\n    },\n    {\n      \"column\": \"LEAVES REMAINING\",\n      \"properties\": {\n        \"dtype\": \"number\",\n        \"std\": 4.603193067791429,\n        \"min\": 0.0,\n        \"max\": 15.0,\n        \"num_unique_values\": 16,\n        \"samples\": [\n          6.0\n        ],\n        \"semantic_type\": \"\",\n        \"description\": \"\"\n      }\n    },\n    {\n      \"column\": \"RATINGS\",\n      \"properties\": {\n        \"dtype\": \"number\",\n        \"std\": 1.1149325778559014,\n        \"min\": 2.0,\n        \"max\": 5.0,\n        \"num_unique_values\": 4,\n        \"samples\": [\n          3.0\n        ],\n        \"semantic_type\": \"\",\n        \"description\": \"\"\n      }\n    },\n    {\n      \"column\": \"PAST EXP\",\n      \"properties\": {\n        \"dtype\": \"number\",\n        \"std\": 2,\n        \"min\": 0,\n        \"max\": 23,\n        \"num_unique_values\": 21,\n        \"samples\": [\n          0\n        ],\n        \"semantic_type\": \"\",\n        \"description\": \"\"\n      }\n    }\n  ]\n}"
            }
          },
          "metadata": {},
          "execution_count": 4
        }
      ]
    },
    {
      "cell_type": "code",
      "source": [
        "# Let's check up missing value\n",
        "df.isnull().any()"
      ],
      "metadata": {
        "colab": {
          "base_uri": "https://localhost:8080/"
        },
        "id": "zUdPKKpE9hbR",
        "outputId": "cb85f0d3-bb36-4cbf-a806-6971a445e583"
      },
      "execution_count": null,
      "outputs": [
        {
          "output_type": "execute_result",
          "data": {
            "text/plain": [
              "FIRST NAME          False\n",
              "LAST NAME            True\n",
              "SEX                 False\n",
              "DOJ                  True\n",
              "CURRENT DATE        False\n",
              "DESIGNATION         False\n",
              "AGE                  True\n",
              "SALARY              False\n",
              "UNIT                False\n",
              "LEAVES USED          True\n",
              "LEAVES REMAINING     True\n",
              "RATINGS              True\n",
              "PAST EXP            False\n",
              "dtype: bool"
            ]
          },
          "metadata": {},
          "execution_count": 6
        }
      ]
    },
    {
      "cell_type": "code",
      "source": [
        "# Let's check up missing value count\n",
        "df.isnull().sum()"
      ],
      "metadata": {
        "colab": {
          "base_uri": "https://localhost:8080/"
        },
        "id": "5N47_ZUF9r6Z",
        "outputId": "c7825b32-18d1-47b7-bdcd-dc86f7bd134c"
      },
      "execution_count": null,
      "outputs": [
        {
          "output_type": "execute_result",
          "data": {
            "text/plain": [
              "FIRST NAME          0\n",
              "LAST NAME           2\n",
              "SEX                 0\n",
              "DOJ                 1\n",
              "CURRENT DATE        0\n",
              "DESIGNATION         0\n",
              "AGE                 3\n",
              "SALARY              0\n",
              "UNIT                0\n",
              "LEAVES USED         3\n",
              "LEAVES REMAINING    2\n",
              "RATINGS             2\n",
              "PAST EXP            0\n",
              "dtype: int64"
            ]
          },
          "metadata": {},
          "execution_count": 7
        }
      ]
    },
    {
      "cell_type": "code",
      "source": [
        "# Let's look at shape of dataframe\n",
        "df.shape"
      ],
      "metadata": {
        "colab": {
          "base_uri": "https://localhost:8080/"
        },
        "id": "vpftuKMn9wLp",
        "outputId": "b4209a15-beb1-4d9b-ed57-701152caa939"
      },
      "execution_count": null,
      "outputs": [
        {
          "output_type": "execute_result",
          "data": {
            "text/plain": [
              "(2639, 13)"
            ]
          },
          "metadata": {},
          "execution_count": 8
        }
      ]
    },
    {
      "cell_type": "code",
      "source": [
        "# Let's look at number of unique values\n",
        "df.nunique()"
      ],
      "metadata": {
        "colab": {
          "base_uri": "https://localhost:8080/"
        },
        "id": "YaMBm1lI94ip",
        "outputId": "2b748540-1024-420c-8fbc-30a8e9880cb7"
      },
      "execution_count": null,
      "outputs": [
        {
          "output_type": "execute_result",
          "data": {
            "text/plain": [
              "FIRST NAME          2367\n",
              "LAST NAME           2475\n",
              "SEX                    2\n",
              "DOJ                  967\n",
              "CURRENT DATE           1\n",
              "DESIGNATION            6\n",
              "AGE                   25\n",
              "SALARY              2305\n",
              "UNIT                   6\n",
              "LEAVES USED           16\n",
              "LEAVES REMAINING      16\n",
              "RATINGS                4\n",
              "PAST EXP              21\n",
              "dtype: int64"
            ]
          },
          "metadata": {},
          "execution_count": 9
        }
      ]
    },
    {
      "cell_type": "code",
      "source": [
        "# Let's look at info of dataframe\n",
        "df.info()"
      ],
      "metadata": {
        "colab": {
          "base_uri": "https://localhost:8080/"
        },
        "id": "O3oWL-jC98DZ",
        "outputId": "940d0e84-73ea-4264-c934-4d90377d694f"
      },
      "execution_count": null,
      "outputs": [
        {
          "output_type": "stream",
          "name": "stdout",
          "text": [
            "<class 'pandas.core.frame.DataFrame'>\n",
            "RangeIndex: 2639 entries, 0 to 2638\n",
            "Data columns (total 13 columns):\n",
            " #   Column            Non-Null Count  Dtype  \n",
            "---  ------            --------------  -----  \n",
            " 0   FIRST NAME        2639 non-null   object \n",
            " 1   LAST NAME         2637 non-null   object \n",
            " 2   SEX               2639 non-null   object \n",
            " 3   DOJ               2638 non-null   object \n",
            " 4   CURRENT DATE      2639 non-null   object \n",
            " 5   DESIGNATION       2639 non-null   object \n",
            " 6   AGE               2636 non-null   float64\n",
            " 7   SALARY            2639 non-null   int64  \n",
            " 8   UNIT              2639 non-null   object \n",
            " 9   LEAVES USED       2636 non-null   float64\n",
            " 10  LEAVES REMAINING  2637 non-null   float64\n",
            " 11  RATINGS           2637 non-null   float64\n",
            " 12  PAST EXP          2639 non-null   int64  \n",
            "dtypes: float64(4), int64(2), object(7)\n",
            "memory usage: 268.1+ KB\n"
          ]
        }
      ]
    },
    {
      "cell_type": "code",
      "source": [
        "# Let's look at descriptive statistic methods of dataframe\n",
        "df.describe().T"
      ],
      "metadata": {
        "colab": {
          "base_uri": "https://localhost:8080/",
          "height": 238
        },
        "id": "RRN5CXeR-Fib",
        "outputId": "11457e87-bacf-4efa-821d-73b51df8536b"
      },
      "execution_count": null,
      "outputs": [
        {
          "output_type": "execute_result",
          "data": {
            "text/plain": [
              "                   count          mean           std      min      25%  \\\n",
              "AGE               2636.0     24.756449      3.908228     21.0     22.0   \n",
              "SALARY            2639.0  58136.678287  36876.956944  40001.0  43418.0   \n",
              "LEAVES USED       2636.0     22.501517      4.604469     15.0     19.0   \n",
              "LEAVES REMAINING  2637.0      7.503223      4.603193      0.0      4.0   \n",
              "RATINGS           2637.0      3.486159      1.114933      2.0      2.0   \n",
              "PAST EXP          2639.0      1.566881      2.728416      0.0      0.0   \n",
              "\n",
              "                      50%      75%       max  \n",
              "AGE                  24.0     25.0      45.0  \n",
              "SALARY            46781.0  51401.5  388112.0  \n",
              "LEAVES USED          22.0     26.0      30.0  \n",
              "LEAVES REMAINING      8.0     11.0      15.0  \n",
              "RATINGS               3.0      4.0       5.0  \n",
              "PAST EXP              1.0      2.0      23.0  "
            ],
            "text/html": [
              "\n",
              "  <div id=\"df-11f769b6-e93a-4bc9-9527-4e9a312b92cb\" class=\"colab-df-container\">\n",
              "    <div>\n",
              "<style scoped>\n",
              "    .dataframe tbody tr th:only-of-type {\n",
              "        vertical-align: middle;\n",
              "    }\n",
              "\n",
              "    .dataframe tbody tr th {\n",
              "        vertical-align: top;\n",
              "    }\n",
              "\n",
              "    .dataframe thead th {\n",
              "        text-align: right;\n",
              "    }\n",
              "</style>\n",
              "<table border=\"1\" class=\"dataframe\">\n",
              "  <thead>\n",
              "    <tr style=\"text-align: right;\">\n",
              "      <th></th>\n",
              "      <th>count</th>\n",
              "      <th>mean</th>\n",
              "      <th>std</th>\n",
              "      <th>min</th>\n",
              "      <th>25%</th>\n",
              "      <th>50%</th>\n",
              "      <th>75%</th>\n",
              "      <th>max</th>\n",
              "    </tr>\n",
              "  </thead>\n",
              "  <tbody>\n",
              "    <tr>\n",
              "      <th>AGE</th>\n",
              "      <td>2636.0</td>\n",
              "      <td>24.756449</td>\n",
              "      <td>3.908228</td>\n",
              "      <td>21.0</td>\n",
              "      <td>22.0</td>\n",
              "      <td>24.0</td>\n",
              "      <td>25.0</td>\n",
              "      <td>45.0</td>\n",
              "    </tr>\n",
              "    <tr>\n",
              "      <th>SALARY</th>\n",
              "      <td>2639.0</td>\n",
              "      <td>58136.678287</td>\n",
              "      <td>36876.956944</td>\n",
              "      <td>40001.0</td>\n",
              "      <td>43418.0</td>\n",
              "      <td>46781.0</td>\n",
              "      <td>51401.5</td>\n",
              "      <td>388112.0</td>\n",
              "    </tr>\n",
              "    <tr>\n",
              "      <th>LEAVES USED</th>\n",
              "      <td>2636.0</td>\n",
              "      <td>22.501517</td>\n",
              "      <td>4.604469</td>\n",
              "      <td>15.0</td>\n",
              "      <td>19.0</td>\n",
              "      <td>22.0</td>\n",
              "      <td>26.0</td>\n",
              "      <td>30.0</td>\n",
              "    </tr>\n",
              "    <tr>\n",
              "      <th>LEAVES REMAINING</th>\n",
              "      <td>2637.0</td>\n",
              "      <td>7.503223</td>\n",
              "      <td>4.603193</td>\n",
              "      <td>0.0</td>\n",
              "      <td>4.0</td>\n",
              "      <td>8.0</td>\n",
              "      <td>11.0</td>\n",
              "      <td>15.0</td>\n",
              "    </tr>\n",
              "    <tr>\n",
              "      <th>RATINGS</th>\n",
              "      <td>2637.0</td>\n",
              "      <td>3.486159</td>\n",
              "      <td>1.114933</td>\n",
              "      <td>2.0</td>\n",
              "      <td>2.0</td>\n",
              "      <td>3.0</td>\n",
              "      <td>4.0</td>\n",
              "      <td>5.0</td>\n",
              "    </tr>\n",
              "    <tr>\n",
              "      <th>PAST EXP</th>\n",
              "      <td>2639.0</td>\n",
              "      <td>1.566881</td>\n",
              "      <td>2.728416</td>\n",
              "      <td>0.0</td>\n",
              "      <td>0.0</td>\n",
              "      <td>1.0</td>\n",
              "      <td>2.0</td>\n",
              "      <td>23.0</td>\n",
              "    </tr>\n",
              "  </tbody>\n",
              "</table>\n",
              "</div>\n",
              "    <div class=\"colab-df-buttons\">\n",
              "\n",
              "  <div class=\"colab-df-container\">\n",
              "    <button class=\"colab-df-convert\" onclick=\"convertToInteractive('df-11f769b6-e93a-4bc9-9527-4e9a312b92cb')\"\n",
              "            title=\"Convert this dataframe to an interactive table.\"\n",
              "            style=\"display:none;\">\n",
              "\n",
              "  <svg xmlns=\"http://www.w3.org/2000/svg\" height=\"24px\" viewBox=\"0 -960 960 960\">\n",
              "    <path d=\"M120-120v-720h720v720H120Zm60-500h600v-160H180v160Zm220 220h160v-160H400v160Zm0 220h160v-160H400v160ZM180-400h160v-160H180v160Zm440 0h160v-160H620v160ZM180-180h160v-160H180v160Zm440 0h160v-160H620v160Z\"/>\n",
              "  </svg>\n",
              "    </button>\n",
              "\n",
              "  <style>\n",
              "    .colab-df-container {\n",
              "      display:flex;\n",
              "      gap: 12px;\n",
              "    }\n",
              "\n",
              "    .colab-df-convert {\n",
              "      background-color: #E8F0FE;\n",
              "      border: none;\n",
              "      border-radius: 50%;\n",
              "      cursor: pointer;\n",
              "      display: none;\n",
              "      fill: #1967D2;\n",
              "      height: 32px;\n",
              "      padding: 0 0 0 0;\n",
              "      width: 32px;\n",
              "    }\n",
              "\n",
              "    .colab-df-convert:hover {\n",
              "      background-color: #E2EBFA;\n",
              "      box-shadow: 0px 1px 2px rgba(60, 64, 67, 0.3), 0px 1px 3px 1px rgba(60, 64, 67, 0.15);\n",
              "      fill: #174EA6;\n",
              "    }\n",
              "\n",
              "    .colab-df-buttons div {\n",
              "      margin-bottom: 4px;\n",
              "    }\n",
              "\n",
              "    [theme=dark] .colab-df-convert {\n",
              "      background-color: #3B4455;\n",
              "      fill: #D2E3FC;\n",
              "    }\n",
              "\n",
              "    [theme=dark] .colab-df-convert:hover {\n",
              "      background-color: #434B5C;\n",
              "      box-shadow: 0px 1px 3px 1px rgba(0, 0, 0, 0.15);\n",
              "      filter: drop-shadow(0px 1px 2px rgba(0, 0, 0, 0.3));\n",
              "      fill: #FFFFFF;\n",
              "    }\n",
              "  </style>\n",
              "\n",
              "    <script>\n",
              "      const buttonEl =\n",
              "        document.querySelector('#df-11f769b6-e93a-4bc9-9527-4e9a312b92cb button.colab-df-convert');\n",
              "      buttonEl.style.display =\n",
              "        google.colab.kernel.accessAllowed ? 'block' : 'none';\n",
              "\n",
              "      async function convertToInteractive(key) {\n",
              "        const element = document.querySelector('#df-11f769b6-e93a-4bc9-9527-4e9a312b92cb');\n",
              "        const dataTable =\n",
              "          await google.colab.kernel.invokeFunction('convertToInteractive',\n",
              "                                                    [key], {});\n",
              "        if (!dataTable) return;\n",
              "\n",
              "        const docLinkHtml = 'Like what you see? Visit the ' +\n",
              "          '<a target=\"_blank\" href=https://colab.research.google.com/notebooks/data_table.ipynb>data table notebook</a>'\n",
              "          + ' to learn more about interactive tables.';\n",
              "        element.innerHTML = '';\n",
              "        dataTable['output_type'] = 'display_data';\n",
              "        await google.colab.output.renderOutput(dataTable, element);\n",
              "        const docLink = document.createElement('div');\n",
              "        docLink.innerHTML = docLinkHtml;\n",
              "        element.appendChild(docLink);\n",
              "      }\n",
              "    </script>\n",
              "  </div>\n",
              "\n",
              "\n",
              "<div id=\"df-94913988-af59-44ad-ac28-15f121f78359\">\n",
              "  <button class=\"colab-df-quickchart\" onclick=\"quickchart('df-94913988-af59-44ad-ac28-15f121f78359')\"\n",
              "            title=\"Suggest charts\"\n",
              "            style=\"display:none;\">\n",
              "\n",
              "<svg xmlns=\"http://www.w3.org/2000/svg\" height=\"24px\"viewBox=\"0 0 24 24\"\n",
              "     width=\"24px\">\n",
              "    <g>\n",
              "        <path d=\"M19 3H5c-1.1 0-2 .9-2 2v14c0 1.1.9 2 2 2h14c1.1 0 2-.9 2-2V5c0-1.1-.9-2-2-2zM9 17H7v-7h2v7zm4 0h-2V7h2v10zm4 0h-2v-4h2v4z\"/>\n",
              "    </g>\n",
              "</svg>\n",
              "  </button>\n",
              "\n",
              "<style>\n",
              "  .colab-df-quickchart {\n",
              "      --bg-color: #E8F0FE;\n",
              "      --fill-color: #1967D2;\n",
              "      --hover-bg-color: #E2EBFA;\n",
              "      --hover-fill-color: #174EA6;\n",
              "      --disabled-fill-color: #AAA;\n",
              "      --disabled-bg-color: #DDD;\n",
              "  }\n",
              "\n",
              "  [theme=dark] .colab-df-quickchart {\n",
              "      --bg-color: #3B4455;\n",
              "      --fill-color: #D2E3FC;\n",
              "      --hover-bg-color: #434B5C;\n",
              "      --hover-fill-color: #FFFFFF;\n",
              "      --disabled-bg-color: #3B4455;\n",
              "      --disabled-fill-color: #666;\n",
              "  }\n",
              "\n",
              "  .colab-df-quickchart {\n",
              "    background-color: var(--bg-color);\n",
              "    border: none;\n",
              "    border-radius: 50%;\n",
              "    cursor: pointer;\n",
              "    display: none;\n",
              "    fill: var(--fill-color);\n",
              "    height: 32px;\n",
              "    padding: 0;\n",
              "    width: 32px;\n",
              "  }\n",
              "\n",
              "  .colab-df-quickchart:hover {\n",
              "    background-color: var(--hover-bg-color);\n",
              "    box-shadow: 0 1px 2px rgba(60, 64, 67, 0.3), 0 1px 3px 1px rgba(60, 64, 67, 0.15);\n",
              "    fill: var(--button-hover-fill-color);\n",
              "  }\n",
              "\n",
              "  .colab-df-quickchart-complete:disabled,\n",
              "  .colab-df-quickchart-complete:disabled:hover {\n",
              "    background-color: var(--disabled-bg-color);\n",
              "    fill: var(--disabled-fill-color);\n",
              "    box-shadow: none;\n",
              "  }\n",
              "\n",
              "  .colab-df-spinner {\n",
              "    border: 2px solid var(--fill-color);\n",
              "    border-color: transparent;\n",
              "    border-bottom-color: var(--fill-color);\n",
              "    animation:\n",
              "      spin 1s steps(1) infinite;\n",
              "  }\n",
              "\n",
              "  @keyframes spin {\n",
              "    0% {\n",
              "      border-color: transparent;\n",
              "      border-bottom-color: var(--fill-color);\n",
              "      border-left-color: var(--fill-color);\n",
              "    }\n",
              "    20% {\n",
              "      border-color: transparent;\n",
              "      border-left-color: var(--fill-color);\n",
              "      border-top-color: var(--fill-color);\n",
              "    }\n",
              "    30% {\n",
              "      border-color: transparent;\n",
              "      border-left-color: var(--fill-color);\n",
              "      border-top-color: var(--fill-color);\n",
              "      border-right-color: var(--fill-color);\n",
              "    }\n",
              "    40% {\n",
              "      border-color: transparent;\n",
              "      border-right-color: var(--fill-color);\n",
              "      border-top-color: var(--fill-color);\n",
              "    }\n",
              "    60% {\n",
              "      border-color: transparent;\n",
              "      border-right-color: var(--fill-color);\n",
              "    }\n",
              "    80% {\n",
              "      border-color: transparent;\n",
              "      border-right-color: var(--fill-color);\n",
              "      border-bottom-color: var(--fill-color);\n",
              "    }\n",
              "    90% {\n",
              "      border-color: transparent;\n",
              "      border-bottom-color: var(--fill-color);\n",
              "    }\n",
              "  }\n",
              "</style>\n",
              "\n",
              "  <script>\n",
              "    async function quickchart(key) {\n",
              "      const quickchartButtonEl =\n",
              "        document.querySelector('#' + key + ' button');\n",
              "      quickchartButtonEl.disabled = true;  // To prevent multiple clicks.\n",
              "      quickchartButtonEl.classList.add('colab-df-spinner');\n",
              "      try {\n",
              "        const charts = await google.colab.kernel.invokeFunction(\n",
              "            'suggestCharts', [key], {});\n",
              "      } catch (error) {\n",
              "        console.error('Error during call to suggestCharts:', error);\n",
              "      }\n",
              "      quickchartButtonEl.classList.remove('colab-df-spinner');\n",
              "      quickchartButtonEl.classList.add('colab-df-quickchart-complete');\n",
              "    }\n",
              "    (() => {\n",
              "      let quickchartButtonEl =\n",
              "        document.querySelector('#df-94913988-af59-44ad-ac28-15f121f78359 button');\n",
              "      quickchartButtonEl.style.display =\n",
              "        google.colab.kernel.accessAllowed ? 'block' : 'none';\n",
              "    })();\n",
              "  </script>\n",
              "</div>\n",
              "\n",
              "    </div>\n",
              "  </div>\n"
            ],
            "application/vnd.google.colaboratory.intrinsic+json": {
              "type": "dataframe",
              "summary": "{\n  \"name\": \"df\",\n  \"rows\": 6,\n  \"fields\": [\n    {\n      \"column\": \"count\",\n      \"properties\": {\n        \"dtype\": \"number\",\n        \"std\": 1.3662601021279464,\n        \"min\": 2636.0,\n        \"max\": 2639.0,\n        \"num_unique_values\": 3,\n        \"samples\": [\n          2636.0,\n          2639.0,\n          2637.0\n        ],\n        \"semantic_type\": \"\",\n        \"description\": \"\"\n      }\n    },\n    {\n      \"column\": \"mean\",\n      \"properties\": {\n        \"dtype\": \"number\",\n        \"std\": 23729.31771247251,\n        \"min\": 1.5668813944676014,\n        \"max\": 58136.67828723001,\n        \"num_unique_values\": 6,\n        \"samples\": [\n          24.756449165402124,\n          58136.67828723001,\n          1.5668813944676014\n        ],\n        \"semantic_type\": \"\",\n        \"description\": \"\"\n      }\n    },\n    {\n      \"column\": \"std\",\n      \"properties\": {\n        \"dtype\": \"number\",\n        \"std\": 15053.569972388981,\n        \"min\": 1.1149325778559014,\n        \"max\": 36876.956943803365,\n        \"num_unique_values\": 6,\n        \"samples\": [\n          3.9082280917992382,\n          36876.956943803365,\n          2.728416258928431\n        ],\n        \"semantic_type\": \"\",\n        \"description\": \"\"\n      }\n    },\n    {\n      \"column\": \"min\",\n      \"properties\": {\n        \"dtype\": \"number\",\n        \"std\": 16327.239514586254,\n        \"min\": 0.0,\n        \"max\": 40001.0,\n        \"num_unique_values\": 5,\n        \"samples\": [\n          40001.0,\n          2.0,\n          15.0\n        ],\n        \"semantic_type\": \"\",\n        \"description\": \"\"\n      }\n    },\n    {\n      \"column\": \"25%\",\n      \"properties\": {\n        \"dtype\": \"number\",\n        \"std\": 17721.489129490972,\n        \"min\": 0.0,\n        \"max\": 43418.0,\n        \"num_unique_values\": 6,\n        \"samples\": [\n          22.0,\n          43418.0,\n          0.0\n        ],\n        \"semantic_type\": \"\",\n        \"description\": \"\"\n      }\n    },\n    {\n      \"column\": \"50%\",\n      \"properties\": {\n        \"dtype\": \"number\",\n        \"std\": 19093.53001149866,\n        \"min\": 1.0,\n        \"max\": 46781.0,\n        \"num_unique_values\": 6,\n        \"samples\": [\n          24.0,\n          46781.0,\n          1.0\n        ],\n        \"semantic_type\": \"\",\n        \"description\": \"\"\n      }\n    },\n    {\n      \"column\": \"75%\",\n      \"properties\": {\n        \"dtype\": \"number\",\n        \"std\": 20979.024790847645,\n        \"min\": 2.0,\n        \"max\": 51401.5,\n        \"num_unique_values\": 6,\n        \"samples\": [\n          25.0,\n          51401.5,\n          2.0\n        ],\n        \"semantic_type\": \"\",\n        \"description\": \"\"\n      }\n    },\n    {\n      \"column\": \"max\",\n      \"properties\": {\n        \"dtype\": \"number\",\n        \"std\": 158436.42642902545,\n        \"min\": 5.0,\n        \"max\": 388112.0,\n        \"num_unique_values\": 6,\n        \"samples\": [\n          45.0,\n          388112.0,\n          23.0\n        ],\n        \"semantic_type\": \"\",\n        \"description\": \"\"\n      }\n    }\n  ]\n}"
            }
          },
          "metadata": {},
          "execution_count": 11
        }
      ]
    },
    {
      "cell_type": "code",
      "source": [
        "# Let's look at data types of columns\n",
        "df.dtypes"
      ],
      "metadata": {
        "colab": {
          "base_uri": "https://localhost:8080/"
        },
        "id": "PRni1U5T-HRB",
        "outputId": "9402903b-e9f4-4159-f95d-a3d825f166ce"
      },
      "execution_count": null,
      "outputs": [
        {
          "output_type": "execute_result",
          "data": {
            "text/plain": [
              "FIRST NAME           object\n",
              "LAST NAME            object\n",
              "SEX                  object\n",
              "DOJ                  object\n",
              "CURRENT DATE         object\n",
              "DESIGNATION          object\n",
              "AGE                 float64\n",
              "SALARY                int64\n",
              "UNIT                 object\n",
              "LEAVES USED         float64\n",
              "LEAVES REMAINING    float64\n",
              "RATINGS             float64\n",
              "PAST EXP              int64\n",
              "dtype: object"
            ]
          },
          "metadata": {},
          "execution_count": 12
        }
      ]
    },
    {
      "cell_type": "markdown",
      "source": [
        "# Feature Engineering"
      ],
      "metadata": {
        "id": "ppPsYltUBLkK"
      }
    },
    {
      "cell_type": "code",
      "source": [
        "df.head()"
      ],
      "metadata": {
        "colab": {
          "base_uri": "https://localhost:8080/",
          "height": 429
        },
        "id": "vIcdUS_9BKTZ",
        "outputId": "1049050d-eb64-4419-eef8-a623b1046895"
      },
      "execution_count": null,
      "outputs": [
        {
          "output_type": "execute_result",
          "data": {
            "text/plain": [
              "  FIRST NAME   LAST NAME         DOJ CURRENT DATE   AGE  SALARY  LEAVES USED  \\\n",
              "0     TOMASA       ARMEN   5-18-2014   01-07-2016  21.0   44570         24.0   \n",
              "1      ANNIE         NaN         NaN   01-07-2016   NaN   89207          NaN   \n",
              "2      OLIVE        ANCY   7-28-2014   01-07-2016  21.0   40955         23.0   \n",
              "3     CHERRY     AQUILAR  04-03-2013   01-07-2016  22.0   45550         22.0   \n",
              "4       LEON  ABOULAHOUD  11-20-2014   01-07-2016   NaN   43161         27.0   \n",
              "\n",
              "   LEAVES REMAINING  RATINGS  PAST EXP  ...  DESIGNATION_Associate  \\\n",
              "0               6.0      2.0         0  ...                  False   \n",
              "1              13.0      NaN         7  ...                   True   \n",
              "2               7.0      3.0         0  ...                  False   \n",
              "3               8.0      3.0         0  ...                  False   \n",
              "4               3.0      NaN         3  ...                  False   \n",
              "\n",
              "   DESIGNATION_Director  DESIGNATION_Manager  DESIGNATION_Senior Analyst  \\\n",
              "0                 False                False                       False   \n",
              "1                 False                False                       False   \n",
              "2                 False                False                       False   \n",
              "3                 False                False                       False   \n",
              "4                 False                False                       False   \n",
              "\n",
              "   DESIGNATION_Senior Manager  UNIT_IT  UNIT_Management  UNIT_Marketing  \\\n",
              "0                       False    False            False           False   \n",
              "1                       False    False            False           False   \n",
              "2                       False    False            False           False   \n",
              "3                       False     True            False           False   \n",
              "4                       False    False            False           False   \n",
              "\n",
              "   UNIT_Operations  UNIT_Web  \n",
              "0            False     False  \n",
              "1            False      True  \n",
              "2            False     False  \n",
              "3            False     False  \n",
              "4             True     False  \n",
              "\n",
              "[5 rows x 21 columns]"
            ],
            "text/html": [
              "\n",
              "  <div id=\"df-71c8bcb9-87fb-4c46-b982-241d386a2463\" class=\"colab-df-container\">\n",
              "    <div>\n",
              "<style scoped>\n",
              "    .dataframe tbody tr th:only-of-type {\n",
              "        vertical-align: middle;\n",
              "    }\n",
              "\n",
              "    .dataframe tbody tr th {\n",
              "        vertical-align: top;\n",
              "    }\n",
              "\n",
              "    .dataframe thead th {\n",
              "        text-align: right;\n",
              "    }\n",
              "</style>\n",
              "<table border=\"1\" class=\"dataframe\">\n",
              "  <thead>\n",
              "    <tr style=\"text-align: right;\">\n",
              "      <th></th>\n",
              "      <th>FIRST NAME</th>\n",
              "      <th>LAST NAME</th>\n",
              "      <th>DOJ</th>\n",
              "      <th>CURRENT DATE</th>\n",
              "      <th>AGE</th>\n",
              "      <th>SALARY</th>\n",
              "      <th>LEAVES USED</th>\n",
              "      <th>LEAVES REMAINING</th>\n",
              "      <th>RATINGS</th>\n",
              "      <th>PAST EXP</th>\n",
              "      <th>...</th>\n",
              "      <th>DESIGNATION_Associate</th>\n",
              "      <th>DESIGNATION_Director</th>\n",
              "      <th>DESIGNATION_Manager</th>\n",
              "      <th>DESIGNATION_Senior Analyst</th>\n",
              "      <th>DESIGNATION_Senior Manager</th>\n",
              "      <th>UNIT_IT</th>\n",
              "      <th>UNIT_Management</th>\n",
              "      <th>UNIT_Marketing</th>\n",
              "      <th>UNIT_Operations</th>\n",
              "      <th>UNIT_Web</th>\n",
              "    </tr>\n",
              "  </thead>\n",
              "  <tbody>\n",
              "    <tr>\n",
              "      <th>0</th>\n",
              "      <td>TOMASA</td>\n",
              "      <td>ARMEN</td>\n",
              "      <td>5-18-2014</td>\n",
              "      <td>01-07-2016</td>\n",
              "      <td>21.0</td>\n",
              "      <td>44570</td>\n",
              "      <td>24.0</td>\n",
              "      <td>6.0</td>\n",
              "      <td>2.0</td>\n",
              "      <td>0</td>\n",
              "      <td>...</td>\n",
              "      <td>False</td>\n",
              "      <td>False</td>\n",
              "      <td>False</td>\n",
              "      <td>False</td>\n",
              "      <td>False</td>\n",
              "      <td>False</td>\n",
              "      <td>False</td>\n",
              "      <td>False</td>\n",
              "      <td>False</td>\n",
              "      <td>False</td>\n",
              "    </tr>\n",
              "    <tr>\n",
              "      <th>1</th>\n",
              "      <td>ANNIE</td>\n",
              "      <td>NaN</td>\n",
              "      <td>NaN</td>\n",
              "      <td>01-07-2016</td>\n",
              "      <td>NaN</td>\n",
              "      <td>89207</td>\n",
              "      <td>NaN</td>\n",
              "      <td>13.0</td>\n",
              "      <td>NaN</td>\n",
              "      <td>7</td>\n",
              "      <td>...</td>\n",
              "      <td>True</td>\n",
              "      <td>False</td>\n",
              "      <td>False</td>\n",
              "      <td>False</td>\n",
              "      <td>False</td>\n",
              "      <td>False</td>\n",
              "      <td>False</td>\n",
              "      <td>False</td>\n",
              "      <td>False</td>\n",
              "      <td>True</td>\n",
              "    </tr>\n",
              "    <tr>\n",
              "      <th>2</th>\n",
              "      <td>OLIVE</td>\n",
              "      <td>ANCY</td>\n",
              "      <td>7-28-2014</td>\n",
              "      <td>01-07-2016</td>\n",
              "      <td>21.0</td>\n",
              "      <td>40955</td>\n",
              "      <td>23.0</td>\n",
              "      <td>7.0</td>\n",
              "      <td>3.0</td>\n",
              "      <td>0</td>\n",
              "      <td>...</td>\n",
              "      <td>False</td>\n",
              "      <td>False</td>\n",
              "      <td>False</td>\n",
              "      <td>False</td>\n",
              "      <td>False</td>\n",
              "      <td>False</td>\n",
              "      <td>False</td>\n",
              "      <td>False</td>\n",
              "      <td>False</td>\n",
              "      <td>False</td>\n",
              "    </tr>\n",
              "    <tr>\n",
              "      <th>3</th>\n",
              "      <td>CHERRY</td>\n",
              "      <td>AQUILAR</td>\n",
              "      <td>04-03-2013</td>\n",
              "      <td>01-07-2016</td>\n",
              "      <td>22.0</td>\n",
              "      <td>45550</td>\n",
              "      <td>22.0</td>\n",
              "      <td>8.0</td>\n",
              "      <td>3.0</td>\n",
              "      <td>0</td>\n",
              "      <td>...</td>\n",
              "      <td>False</td>\n",
              "      <td>False</td>\n",
              "      <td>False</td>\n",
              "      <td>False</td>\n",
              "      <td>False</td>\n",
              "      <td>True</td>\n",
              "      <td>False</td>\n",
              "      <td>False</td>\n",
              "      <td>False</td>\n",
              "      <td>False</td>\n",
              "    </tr>\n",
              "    <tr>\n",
              "      <th>4</th>\n",
              "      <td>LEON</td>\n",
              "      <td>ABOULAHOUD</td>\n",
              "      <td>11-20-2014</td>\n",
              "      <td>01-07-2016</td>\n",
              "      <td>NaN</td>\n",
              "      <td>43161</td>\n",
              "      <td>27.0</td>\n",
              "      <td>3.0</td>\n",
              "      <td>NaN</td>\n",
              "      <td>3</td>\n",
              "      <td>...</td>\n",
              "      <td>False</td>\n",
              "      <td>False</td>\n",
              "      <td>False</td>\n",
              "      <td>False</td>\n",
              "      <td>False</td>\n",
              "      <td>False</td>\n",
              "      <td>False</td>\n",
              "      <td>False</td>\n",
              "      <td>True</td>\n",
              "      <td>False</td>\n",
              "    </tr>\n",
              "  </tbody>\n",
              "</table>\n",
              "<p>5 rows × 21 columns</p>\n",
              "</div>\n",
              "    <div class=\"colab-df-buttons\">\n",
              "\n",
              "  <div class=\"colab-df-container\">\n",
              "    <button class=\"colab-df-convert\" onclick=\"convertToInteractive('df-71c8bcb9-87fb-4c46-b982-241d386a2463')\"\n",
              "            title=\"Convert this dataframe to an interactive table.\"\n",
              "            style=\"display:none;\">\n",
              "\n",
              "  <svg xmlns=\"http://www.w3.org/2000/svg\" height=\"24px\" viewBox=\"0 -960 960 960\">\n",
              "    <path d=\"M120-120v-720h720v720H120Zm60-500h600v-160H180v160Zm220 220h160v-160H400v160Zm0 220h160v-160H400v160ZM180-400h160v-160H180v160Zm440 0h160v-160H620v160ZM180-180h160v-160H180v160Zm440 0h160v-160H620v160Z\"/>\n",
              "  </svg>\n",
              "    </button>\n",
              "\n",
              "  <style>\n",
              "    .colab-df-container {\n",
              "      display:flex;\n",
              "      gap: 12px;\n",
              "    }\n",
              "\n",
              "    .colab-df-convert {\n",
              "      background-color: #E8F0FE;\n",
              "      border: none;\n",
              "      border-radius: 50%;\n",
              "      cursor: pointer;\n",
              "      display: none;\n",
              "      fill: #1967D2;\n",
              "      height: 32px;\n",
              "      padding: 0 0 0 0;\n",
              "      width: 32px;\n",
              "    }\n",
              "\n",
              "    .colab-df-convert:hover {\n",
              "      background-color: #E2EBFA;\n",
              "      box-shadow: 0px 1px 2px rgba(60, 64, 67, 0.3), 0px 1px 3px 1px rgba(60, 64, 67, 0.15);\n",
              "      fill: #174EA6;\n",
              "    }\n",
              "\n",
              "    .colab-df-buttons div {\n",
              "      margin-bottom: 4px;\n",
              "    }\n",
              "\n",
              "    [theme=dark] .colab-df-convert {\n",
              "      background-color: #3B4455;\n",
              "      fill: #D2E3FC;\n",
              "    }\n",
              "\n",
              "    [theme=dark] .colab-df-convert:hover {\n",
              "      background-color: #434B5C;\n",
              "      box-shadow: 0px 1px 3px 1px rgba(0, 0, 0, 0.15);\n",
              "      filter: drop-shadow(0px 1px 2px rgba(0, 0, 0, 0.3));\n",
              "      fill: #FFFFFF;\n",
              "    }\n",
              "  </style>\n",
              "\n",
              "    <script>\n",
              "      const buttonEl =\n",
              "        document.querySelector('#df-71c8bcb9-87fb-4c46-b982-241d386a2463 button.colab-df-convert');\n",
              "      buttonEl.style.display =\n",
              "        google.colab.kernel.accessAllowed ? 'block' : 'none';\n",
              "\n",
              "      async function convertToInteractive(key) {\n",
              "        const element = document.querySelector('#df-71c8bcb9-87fb-4c46-b982-241d386a2463');\n",
              "        const dataTable =\n",
              "          await google.colab.kernel.invokeFunction('convertToInteractive',\n",
              "                                                    [key], {});\n",
              "        if (!dataTable) return;\n",
              "\n",
              "        const docLinkHtml = 'Like what you see? Visit the ' +\n",
              "          '<a target=\"_blank\" href=https://colab.research.google.com/notebooks/data_table.ipynb>data table notebook</a>'\n",
              "          + ' to learn more about interactive tables.';\n",
              "        element.innerHTML = '';\n",
              "        dataTable['output_type'] = 'display_data';\n",
              "        await google.colab.output.renderOutput(dataTable, element);\n",
              "        const docLink = document.createElement('div');\n",
              "        docLink.innerHTML = docLinkHtml;\n",
              "        element.appendChild(docLink);\n",
              "      }\n",
              "    </script>\n",
              "  </div>\n",
              "\n",
              "\n",
              "<div id=\"df-e213c341-89fa-4f27-ac6a-e44c92b2438a\">\n",
              "  <button class=\"colab-df-quickchart\" onclick=\"quickchart('df-e213c341-89fa-4f27-ac6a-e44c92b2438a')\"\n",
              "            title=\"Suggest charts\"\n",
              "            style=\"display:none;\">\n",
              "\n",
              "<svg xmlns=\"http://www.w3.org/2000/svg\" height=\"24px\"viewBox=\"0 0 24 24\"\n",
              "     width=\"24px\">\n",
              "    <g>\n",
              "        <path d=\"M19 3H5c-1.1 0-2 .9-2 2v14c0 1.1.9 2 2 2h14c1.1 0 2-.9 2-2V5c0-1.1-.9-2-2-2zM9 17H7v-7h2v7zm4 0h-2V7h2v10zm4 0h-2v-4h2v4z\"/>\n",
              "    </g>\n",
              "</svg>\n",
              "  </button>\n",
              "\n",
              "<style>\n",
              "  .colab-df-quickchart {\n",
              "      --bg-color: #E8F0FE;\n",
              "      --fill-color: #1967D2;\n",
              "      --hover-bg-color: #E2EBFA;\n",
              "      --hover-fill-color: #174EA6;\n",
              "      --disabled-fill-color: #AAA;\n",
              "      --disabled-bg-color: #DDD;\n",
              "  }\n",
              "\n",
              "  [theme=dark] .colab-df-quickchart {\n",
              "      --bg-color: #3B4455;\n",
              "      --fill-color: #D2E3FC;\n",
              "      --hover-bg-color: #434B5C;\n",
              "      --hover-fill-color: #FFFFFF;\n",
              "      --disabled-bg-color: #3B4455;\n",
              "      --disabled-fill-color: #666;\n",
              "  }\n",
              "\n",
              "  .colab-df-quickchart {\n",
              "    background-color: var(--bg-color);\n",
              "    border: none;\n",
              "    border-radius: 50%;\n",
              "    cursor: pointer;\n",
              "    display: none;\n",
              "    fill: var(--fill-color);\n",
              "    height: 32px;\n",
              "    padding: 0;\n",
              "    width: 32px;\n",
              "  }\n",
              "\n",
              "  .colab-df-quickchart:hover {\n",
              "    background-color: var(--hover-bg-color);\n",
              "    box-shadow: 0 1px 2px rgba(60, 64, 67, 0.3), 0 1px 3px 1px rgba(60, 64, 67, 0.15);\n",
              "    fill: var(--button-hover-fill-color);\n",
              "  }\n",
              "\n",
              "  .colab-df-quickchart-complete:disabled,\n",
              "  .colab-df-quickchart-complete:disabled:hover {\n",
              "    background-color: var(--disabled-bg-color);\n",
              "    fill: var(--disabled-fill-color);\n",
              "    box-shadow: none;\n",
              "  }\n",
              "\n",
              "  .colab-df-spinner {\n",
              "    border: 2px solid var(--fill-color);\n",
              "    border-color: transparent;\n",
              "    border-bottom-color: var(--fill-color);\n",
              "    animation:\n",
              "      spin 1s steps(1) infinite;\n",
              "  }\n",
              "\n",
              "  @keyframes spin {\n",
              "    0% {\n",
              "      border-color: transparent;\n",
              "      border-bottom-color: var(--fill-color);\n",
              "      border-left-color: var(--fill-color);\n",
              "    }\n",
              "    20% {\n",
              "      border-color: transparent;\n",
              "      border-left-color: var(--fill-color);\n",
              "      border-top-color: var(--fill-color);\n",
              "    }\n",
              "    30% {\n",
              "      border-color: transparent;\n",
              "      border-left-color: var(--fill-color);\n",
              "      border-top-color: var(--fill-color);\n",
              "      border-right-color: var(--fill-color);\n",
              "    }\n",
              "    40% {\n",
              "      border-color: transparent;\n",
              "      border-right-color: var(--fill-color);\n",
              "      border-top-color: var(--fill-color);\n",
              "    }\n",
              "    60% {\n",
              "      border-color: transparent;\n",
              "      border-right-color: var(--fill-color);\n",
              "    }\n",
              "    80% {\n",
              "      border-color: transparent;\n",
              "      border-right-color: var(--fill-color);\n",
              "      border-bottom-color: var(--fill-color);\n",
              "    }\n",
              "    90% {\n",
              "      border-color: transparent;\n",
              "      border-bottom-color: var(--fill-color);\n",
              "    }\n",
              "  }\n",
              "</style>\n",
              "\n",
              "  <script>\n",
              "    async function quickchart(key) {\n",
              "      const quickchartButtonEl =\n",
              "        document.querySelector('#' + key + ' button');\n",
              "      quickchartButtonEl.disabled = true;  // To prevent multiple clicks.\n",
              "      quickchartButtonEl.classList.add('colab-df-spinner');\n",
              "      try {\n",
              "        const charts = await google.colab.kernel.invokeFunction(\n",
              "            'suggestCharts', [key], {});\n",
              "      } catch (error) {\n",
              "        console.error('Error during call to suggestCharts:', error);\n",
              "      }\n",
              "      quickchartButtonEl.classList.remove('colab-df-spinner');\n",
              "      quickchartButtonEl.classList.add('colab-df-quickchart-complete');\n",
              "    }\n",
              "    (() => {\n",
              "      let quickchartButtonEl =\n",
              "        document.querySelector('#df-e213c341-89fa-4f27-ac6a-e44c92b2438a button');\n",
              "      quickchartButtonEl.style.display =\n",
              "        google.colab.kernel.accessAllowed ? 'block' : 'none';\n",
              "    })();\n",
              "  </script>\n",
              "</div>\n",
              "\n",
              "    </div>\n",
              "  </div>\n"
            ],
            "application/vnd.google.colaboratory.intrinsic+json": {
              "type": "dataframe",
              "variable_name": "df"
            }
          },
          "metadata": {},
          "execution_count": 64
        }
      ]
    },
    {
      "cell_type": "code",
      "source": [
        "# Let's create month and year column by date of joining\n",
        "df['DOJ'] = pd.to_datetime(df['DOJ'])\n",
        "df['Month_doj'] = df['DOJ'].dt.month\n",
        "df['Year_doj'] = df['DOJ'].dt.year"
      ],
      "metadata": {
        "id": "RkLh0-71C1ST"
      },
      "execution_count": null,
      "outputs": []
    },
    {
      "cell_type": "code",
      "source": [
        "# Let's choose right group for age group\n",
        "import matplotlib.pyplot as plt\n",
        "for i in ['AGE','PAST EXP']:\n",
        "    age_salary_mean = df.groupby(by=i).aggregate({'SALARY': 'mean'})\n",
        "    plt.figure(figsize=(10, 3))\n",
        "    plt.plot(age_salary_mean.index, age_salary_mean['SALARY'], marker='o', linestyle='-', color='b', label='Mean Salary')\n",
        "    plt.title(f'Mean Salary by {i}', fontsize=16)\n",
        "    plt.xlabel(f'{i}', fontsize=14)\n",
        "    plt.ylabel('Mean Salary', fontsize=14)\n",
        "    plt.xticks(age_salary_mean.index, fontsize=12)\n",
        "    plt.yticks(fontsize=12)\n",
        "    plt.grid(True)\n",
        "    plt.tight_layout()\n",
        "    plt.show()"
      ],
      "metadata": {
        "colab": {
          "base_uri": "https://localhost:8080/",
          "height": 597
        },
        "id": "KlvEqtKLHF6H",
        "outputId": "48e65314-239c-4ad6-d4b8-86ffb49fbebb"
      },
      "execution_count": null,
      "outputs": [
        {
          "output_type": "display_data",
          "data": {
            "text/plain": [
              "<Figure size 1000x300 with 1 Axes>"
            ],
            "image/png": "[encoded data removed]"
          },
          "metadata": {}
        },
        {
          "output_type": "display_data",
          "data": {
            "text/plain": [
              "<Figure size 1000x300 with 1 Axes>"
            ],
            "image/png": "[encoded data removed]"
          },
          "metadata": {}
        }
      ]
    },
    {
      "cell_type": "code",
      "source": [
        "# Let's also group PAST EXP, age columns\n",
        "def age_group(age):\n",
        "  if age <= 25:\n",
        "    return '<= 25'\n",
        "  elif age <= 36:\n",
        "    return '25-36'\n",
        "  elif age <= 42:\n",
        "    return '37-42'\n",
        "  else:\n",
        "    return '42 <'\n",
        "\n",
        "def past_exp_group(exp):\n",
        "  if exp <= 3:\n",
        "    return '<= 3'\n",
        "  elif exp <= 10:\n",
        "    return '3-10'\n",
        "  elif exp <= 18:\n",
        "    return '10-18'\n",
        "  else:\n",
        "    return '18 <'\n",
        "\n",
        "df['Age_group'] = df['AGE'].apply(lambda x: age_group(x))\n",
        "df['Past_exp_group'] = df['PAST EXP'].apply(lambda x: past_exp_group(x))"
      ],
      "metadata": {
        "id": "sTv3x6AxIvUI"
      },
      "execution_count": null,
      "outputs": []
    },
    {
      "cell_type": "code",
      "source": [
        "# Let's find how many leaves percent are used by worker\n",
        "df['Percent_leaves'] = round(df['LEAVES USED'] / (df['LEAVES USED'] + df['LEAVES REMAINING']),3)"
      ],
      "metadata": {
        "id": "veEg8P8TKGX_"
      },
      "execution_count": null,
      "outputs": []
    },
    {
      "cell_type": "code",
      "source": [
        "# Let's find total leaves\n",
        "df['TOTAL LEAVES'] = df['LEAVES USED'] + df['LEAVES REMAINING']"
      ],
      "metadata": {
        "id": "8O8mNH5_OABf"
      },
      "execution_count": null,
      "outputs": []
    },
    {
      "cell_type": "code",
      "source": [
        "# Let's find tenure of workers\n",
        "df['TENURE'] = (pd.to_datetime(df['CURRENT DATE']) - pd.to_datetime(df['DOJ'])).dt.days / 365.25"
      ],
      "metadata": {
        "id": "R4NmH3NgNgO_"
      },
      "execution_count": null,
      "outputs": []
    },
    {
      "cell_type": "code",
      "source": [
        "# Let's encode categorical features\n",
        "df = pd.get_dummies(df, columns=['SEX', 'DESIGNATION', 'UNIT','Past_exp_group','Age_group'], drop_first=True)"
      ],
      "metadata": {
        "id": "r9Jui9rNOUcI"
      },
      "execution_count": null,
      "outputs": []
    },
    {
      "cell_type": "markdown",
      "source": [
        "# Data Preprocessing"
      ],
      "metadata": {
        "id": "5Kl79dn9PPmH"
      }
    },
    {
      "cell_type": "code",
      "source": [
        "# Let's first remove unnecessary columns\n",
        "df.drop(columns = ['FIRST NAME','LAST NAME','DOJ','CURRENT DATE'], inplace = True)"
      ],
      "metadata": {
        "id": "XsD8KB7oPAUu"
      },
      "execution_count": null,
      "outputs": []
    },
    {
      "cell_type": "code",
      "source": [
        "# Let's handle missing values\n",
        "df.isnull().sum()"
      ],
      "metadata": {
        "colab": {
          "base_uri": "https://localhost:8080/"
        },
        "id": "bgS6H9TeQWCX",
        "outputId": "eeab2179-bffd-4b14-b4b8-b9aaee7fcf7d"
      },
      "execution_count": null,
      "outputs": [
        {
          "output_type": "execute_result",
          "data": {
            "text/plain": [
              "AGE                           3\n",
              "SALARY                        0\n",
              "LEAVES USED                   3\n",
              "LEAVES REMAINING              2\n",
              "RATINGS                       2\n",
              "PAST EXP                      0\n",
              "Month_doj                     1\n",
              "Year_doj                      1\n",
              "Percent_leaves                5\n",
              "TOTAL LEAVES                  5\n",
              "TENURE                        1\n",
              "SEX_M                         0\n",
              "DESIGNATION_Associate         0\n",
              "DESIGNATION_Director          0\n",
              "DESIGNATION_Manager           0\n",
              "DESIGNATION_Senior Analyst    0\n",
              "DESIGNATION_Senior Manager    0\n",
              "UNIT_IT                       0\n",
              "UNIT_Management               0\n",
              "UNIT_Marketing                0\n",
              "UNIT_Operations               0\n",
              "UNIT_Web                      0\n",
              "Past_exp_group_18 <           0\n",
              "Past_exp_group_3-10           0\n",
              "Past_exp_group_<= 3           0\n",
              "Age_group_37-42               0\n",
              "Age_group_42 <                0\n",
              "Age_group_<= 25               0\n",
              "dtype: int64"
            ]
          },
          "metadata": {},
          "execution_count": 153
        }
      ]
    },
    {
      "cell_type": "code",
      "source": [
        "# Leaves used column:\n",
        "df['LEAVES USED'] = df['LEAVES USED'].fillna(30 - df['LEAVES REMAINING'])\n",
        "\n",
        "# Leaves used column:\n",
        "df['LEAVES REMAINING'] = df['LEAVES REMAINING'].fillna(30 - df['LEAVES USED'])\n",
        "\n",
        "# Let's remove null date row\n",
        "df.dropna(subset=['Year_doj'], inplace=True)\n",
        "\n",
        "# Repeat Codes\n",
        "df['TOTAL LEAVES'] = df['LEAVES USED'] + df['LEAVES REMAINING']\n",
        "df['Percent_leaves'] = round(df['LEAVES USED'] / (df['LEAVES USED'] + df['LEAVES REMAINING']),3)"
      ],
      "metadata": {
        "id": "kntx3RLGQls4"
      },
      "execution_count": null,
      "outputs": []
    },
    {
      "cell_type": "code",
      "source": [
        "# Let's convert all bool to int\n",
        "for i in df.select_dtypes(include = bool):\n",
        "  df[i] = df[i].astype(int)"
      ],
      "metadata": {
        "id": "jI2DrcHtSaUm"
      },
      "execution_count": null,
      "outputs": []
    },
    {
      "cell_type": "code",
      "source": [
        "# Let's find age and ratings with ml model and fill data\n",
        "from sklearn.model_selection import train_test_split\n",
        "from sklearn.ensemble import RandomForestRegressor, RandomForestClassifier\n",
        "from sklearn.metrics import mean_squared_error, accuracy_score\n",
        "\n",
        "train_data = df.dropna(subset=['AGE', 'RATINGS'])\n",
        "predict_data = df[df['AGE'].isnull() | df['RATINGS'].isnull()]\n",
        "\n",
        "X_age = train_data.drop(columns=['AGE', 'RATINGS'])\n",
        "y_age = train_data['AGE']\n",
        "\n",
        "X_ratings = train_data.drop(columns=['AGE', 'RATINGS'])\n",
        "y_ratings = train_data['RATINGS']\n",
        "\n",
        "X_age_train, X_age_valid, y_age_train, y_age_valid = train_test_split(X_age, y_age, test_size=0.2, random_state=42)\n",
        "X_ratings_train, X_ratings_valid, y_ratings_train, y_ratings_valid = train_test_split(X_ratings, y_ratings, test_size=0.2, random_state=42)\n",
        "\n",
        "# Train models\n",
        "age_model = RandomForestRegressor()\n",
        "ratings_model = RandomForestClassifier()\n",
        "\n",
        "age_model.fit(X_age_train, y_age_train)\n",
        "ratings_model.fit(X_ratings_train, y_ratings_train)\n",
        "\n",
        "predicted_age = age_model.predict(predict_data.drop(columns=['AGE', 'RATINGS']))\n",
        "predicted_ratings = ratings_model.predict(predict_data.drop(columns=['AGE', 'RATINGS']))\n",
        "\n",
        "predict_data.loc[predict_data['AGE'].isnull(), 'AGE'] = predicted_age\n",
        "predict_data.loc[predict_data['RATINGS'].isnull(), 'RATINGS'] = predicted_ratings[0]\n",
        "\n",
        "imputed_data = pd.concat([train_data, predict_data])"
      ],
      "metadata": {
        "id": "poSnFhzfRf4n"
      },
      "execution_count": null,
      "outputs": []
    },
    {
      "cell_type": "code",
      "source": [
        "# Let's check dataframe missing value\n",
        "df = imputed_data.copy()\n",
        "df.isnull().sum()"
      ],
      "metadata": {
        "colab": {
          "base_uri": "https://localhost:8080/"
        },
        "id": "Y4ySWpQ5V7JN",
        "outputId": "9a11c874-e3fd-4b0a-e191-0c9744c7084f"
      },
      "execution_count": null,
      "outputs": [
        {
          "output_type": "execute_result",
          "data": {
            "text/plain": [
              "AGE                           0\n",
              "SALARY                        0\n",
              "LEAVES USED                   0\n",
              "LEAVES REMAINING              0\n",
              "RATINGS                       0\n",
              "PAST EXP                      0\n",
              "Month_doj                     0\n",
              "Year_doj                      0\n",
              "Percent_leaves                0\n",
              "TOTAL LEAVES                  0\n",
              "TENURE                        0\n",
              "SEX_M                         0\n",
              "DESIGNATION_Associate         0\n",
              "DESIGNATION_Director          0\n",
              "DESIGNATION_Manager           0\n",
              "DESIGNATION_Senior Analyst    0\n",
              "DESIGNATION_Senior Manager    0\n",
              "UNIT_IT                       0\n",
              "UNIT_Management               0\n",
              "UNIT_Marketing                0\n",
              "UNIT_Operations               0\n",
              "UNIT_Web                      0\n",
              "Past_exp_group_18 <           0\n",
              "Past_exp_group_3-10           0\n",
              "Past_exp_group_<= 3           0\n",
              "Age_group_37-42               0\n",
              "Age_group_42 <                0\n",
              "Age_group_<= 25               0\n",
              "dtype: int64"
            ]
          },
          "metadata": {},
          "execution_count": 159
        }
      ]
    },
    {
      "cell_type": "markdown",
      "source": [
        "Okey Great !!!✅"
      ],
      "metadata": {
        "id": "9MD32W9WWjnN"
      }
    },
    {
      "cell_type": "code",
      "source": [
        "# Let's check unique values for each columns\n",
        "for i in df.columns:\n",
        "  print(f'{i}: [{df[i].nunique()}]')"
      ],
      "metadata": {
        "colab": {
          "base_uri": "https://localhost:8080/"
        },
        "id": "KOA4JYADQE01",
        "outputId": "85db57b9-cd5b-44f1-989d-f819cb98149c"
      },
      "execution_count": null,
      "outputs": [
        {
          "output_type": "stream",
          "name": "stdout",
          "text": [
            "AGE: [25]\n",
            "SALARY: [2304]\n",
            "LEAVES USED: [16]\n",
            "LEAVES REMAINING: [16]\n",
            "RATINGS: [4]\n",
            "PAST EXP: [21]\n",
            "Month_doj: [12]\n",
            "Year_doj: [7]\n",
            "Percent_leaves: [16]\n",
            "TOTAL LEAVES: [1]\n",
            "TENURE: [967]\n",
            "SEX_M: [2]\n",
            "DESIGNATION_Associate: [2]\n",
            "DESIGNATION_Director: [2]\n",
            "DESIGNATION_Manager: [2]\n",
            "DESIGNATION_Senior Analyst: [2]\n",
            "DESIGNATION_Senior Manager: [2]\n",
            "UNIT_IT: [2]\n",
            "UNIT_Management: [2]\n",
            "UNIT_Marketing: [2]\n",
            "UNIT_Operations: [2]\n",
            "UNIT_Web: [2]\n",
            "Past_exp_group_18 <: [2]\n",
            "Past_exp_group_3-10: [2]\n",
            "Past_exp_group_<= 3: [2]\n",
            "Age_group_37-42: [2]\n",
            "Age_group_42 <: [2]\n",
            "Age_group_<= 25: [2]\n"
          ]
        }
      ]
    },
    {
      "cell_type": "code",
      "source": [
        "# Let's remove TOTAL LEAVES column becouse all values is same\n",
        "del df['TOTAL LEAVES']"
      ],
      "metadata": {
        "id": "Atr2sOOFWnmE"
      },
      "execution_count": null,
      "outputs": []
    },
    {
      "cell_type": "markdown",
      "source": [
        "# Machine Learning Model Development"
      ],
      "metadata": {
        "id": "IXrvqggoYIJW"
      }
    },
    {
      "cell_type": "code",
      "source": [
        "# Let's copy dataset\n",
        "ml_data = df.copy()"
      ],
      "metadata": {
        "id": "WOJmMqrhYD9G"
      },
      "execution_count": null,
      "outputs": []
    },
    {
      "cell_type": "code",
      "source": [
        "# Let's reset dataframe\n",
        "df.reset_index(drop = True , inplace = True)"
      ],
      "metadata": {
        "id": "YVhtAkDPXzas"
      },
      "execution_count": null,
      "outputs": []
    },
    {
      "cell_type": "code",
      "source": [
        "# Let's define target and input value\n",
        "X = ml_data.drop('SALARY', axis =1)\n",
        "y = ml_data['SALARY']"
      ],
      "metadata": {
        "id": "Qv8Hv72QZROW"
      },
      "execution_count": null,
      "outputs": []
    },
    {
      "cell_type": "code",
      "source": [
        "# Let's divide dataset to train and test data\n",
        "from sklearn.model_selection import train_test_split\n",
        "\n",
        "X_train, X_test, y_train, y_test = train_test_split(X, y, test_size=0.2, random_state=42)"
      ],
      "metadata": {
        "id": "S4Kkk4sEZS-k"
      },
      "execution_count": null,
      "outputs": []
    },
    {
      "cell_type": "code",
      "source": [
        "# Let's import necessary libraries\n",
        "import pandas as pd\n",
        "from sklearn.model_selection import train_test_split, cross_val_score\n",
        "from sklearn.linear_model import LinearRegression, Ridge, Lasso, ElasticNet\n",
        "from sklearn.neighbors import KNeighborsRegressor\n",
        "from sklearn.tree import DecisionTreeRegressor\n",
        "from sklearn.ensemble import RandomForestRegressor, GradientBoostingRegressor\n",
        "from sklearn.svm import SVR\n",
        "from sklearn.metrics import mean_squared_error\n",
        "\n",
        "regressors = {\n",
        "    \"Linear Regression\": LinearRegression(),\n",
        "    \"Ridge Regression\": Ridge(),\n",
        "    \"Lasso Regression\": Lasso(),\n",
        "    \"Elastic Net\": ElasticNet(),\n",
        "    \"K Nearest Neighbors\": KNeighborsRegressor(),\n",
        "    \"Decision Tree\": DecisionTreeRegressor(),\n",
        "    \"Random Forest\": RandomForestRegressor(),\n",
        "    \"Gradient Boosting\": GradientBoostingRegressor(),\n",
        "    \"Support Vector Regression\": SVR()\n",
        "}\n",
        "\n",
        "for key, regressor in regressors.items():\n",
        "    regressor.fit(X_train, y_train)\n",
        "    training_score = regressor.score(X_train, y_train)\n",
        "    y_pred = regressor.predict(X_test)\n",
        "    mse = mean_squared_error(y_test, y_pred)\n",
        "    print(\"Regressor:\", regressor.__class__.__name__)\n",
        "    print(\"Training R-squared Score:\", round(training_score * 100, 2), \"%\")\n",
        "    print(\"Mean Squared Error:\", mse)\n",
        "    print()"
      ],
      "metadata": {
        "colab": {
          "base_uri": "https://localhost:8080/"
        },
        "id": "Ccls_K3PXz3M",
        "outputId": "25aaa3ed-67ff-422c-eb8a-d71505ab0553"
      },
      "execution_count": null,
      "outputs": [
        {
          "output_type": "stream",
          "name": "stdout",
          "text": [
            "Regressor: LinearRegression has a training R-squared score of 95.52 %\n",
            "Regressor: Ridge has a training R-squared score of 94.98 %\n",
            "Regressor: Lasso has a training R-squared score of 95.51 %\n",
            "Regressor: ElasticNet has a training R-squared score of 80.52 %\n"
          ]
        },
        {
          "output_type": "stream",
          "name": "stderr",
          "text": [
            "/usr/local/lib/python3.10/dist-packages/sklearn/linear_model/_coordinate_descent.py:631: ConvergenceWarning: Objective did not converge. You might want to increase the number of iterations, check the scale of the features or consider increasing regularisation. Duality gap: 1.807e+10, tolerance: 2.762e+08\n",
            "  model = cd_fast.enet_coordinate_descent(\n"
          ]
        },
        {
          "output_type": "stream",
          "name": "stdout",
          "text": [
            "Regressor: KNeighborsRegressor has a training R-squared score of 92.24 %\n",
            "Regressor: DecisionTreeRegressor has a training R-squared score of 100.0 %\n",
            "Regressor: RandomForestRegressor has a training R-squared score of 99.24 %\n",
            "Regressor: GradientBoostingRegressor has a training R-squared score of 98.18 %\n",
            "Regressor: SVR has a training R-squared score of -9.96 %\n"
          ]
        }
      ]
    },
    {
      "cell_type": "code",
      "source": [
        "# Let's predict example row and find salary\n",
        "example_row = X_test.iloc[0:1]\n",
        "\n",
        "# Let's iterate through all regression models\n",
        "for key, regressor in regressors.items():\n",
        "    predicted_salary = regressor.predict(example_row)\n",
        "    print(\"Regressor:\", regressor.__class__.__name__)\n",
        "    print(\"Real Salary:\", y_test.iloc[0])\n",
        "    print(\"Predicted Salary:\", predicted_salary[0])\n",
        "    print()"
      ],
      "metadata": {
        "colab": {
          "base_uri": "https://localhost:8080/"
        },
        "id": "KQk-KzxwbAOF",
        "outputId": "2135045a-6b1b-49a1-85c2-e1010ba5aa5c"
      },
      "execution_count": null,
      "outputs": [
        {
          "output_type": "stream",
          "name": "stdout",
          "text": [
            "Regressor: LinearRegression\n",
            "Real Salary: 69223\n",
            "Predicted Salary: 59968.0\n",
            "\n",
            "Regressor: Ridge\n",
            "Real Salary: 69223\n",
            "Predicted Salary: 60160.978076097555\n",
            "\n",
            "Regressor: Lasso\n",
            "Real Salary: 69223\n",
            "Predicted Salary: 59254.697680079844\n",
            "\n",
            "Regressor: ElasticNet\n",
            "Real Salary: 69223\n",
            "Predicted Salary: 73521.49703875929\n",
            "\n",
            "Regressor: KNeighborsRegressor\n",
            "Real Salary: 69223\n",
            "Predicted Salary: 76454.6\n",
            "\n",
            "Regressor: DecisionTreeRegressor\n",
            "Real Salary: 69223\n",
            "Predicted Salary: 64108.0\n",
            "\n",
            "Regressor: RandomForestRegressor\n",
            "Real Salary: 69223\n",
            "Predicted Salary: 61080.37\n",
            "\n",
            "Regressor: GradientBoostingRegressor\n",
            "Real Salary: 69223\n",
            "Predicted Salary: 61184.997863605546\n",
            "\n",
            "Regressor: SVR\n",
            "Real Salary: 69223\n",
            "Predicted Salary: 46812.516176728386\n",
            "\n"
          ]
        }
      ]
    },
    {
      "cell_type": "code",
      "source": [
        "# Let's continue DecisionTreeRegressor and RandomForestRegressor models -> Random Search\n",
        "\n",
        "from sklearn.model_selection import RandomizedSearchCV\n",
        "from sklearn.ensemble import RandomForestRegressor\n",
        "\n",
        "param_grid = {\n",
        "    'n_estimators': [10, 50, 100, 200],\n",
        "    'max_features': ['auto', 'sqrt'],\n",
        "    'max_depth': [None, 10, 20, 30, 40],\n",
        "    'min_samples_split': [2, 5, 10],\n",
        "    'min_samples_leaf': [1, 2, 4],\n",
        "    'bootstrap': [True, False]\n",
        "}\n",
        "\n",
        "rf_regressor = RandomForestRegressor()\n",
        "\n",
        "rf_random = RandomizedSearchCV(estimator=rf_regressor, param_distributions=param_grid,\n",
        "                               n_iter=100, cv=3, verbose=2, random_state=42, n_jobs=-1)\n",
        "\n",
        "rf_random.fit(X_train, y_train)\n",
        "\n",
        "print(\"Best parameters found for Random Forest Regression:\")\n",
        "print(rf_random.best_params_)"
      ],
      "metadata": {
        "colab": {
          "base_uri": "https://localhost:8080/"
        },
        "id": "L2fkYRa5dmu0",
        "outputId": "c0c1b57b-92b0-4f33-d947-e41060ae4b9d"
      },
      "execution_count": null,
      "outputs": [
        {
          "output_type": "stream",
          "name": "stdout",
          "text": [
            "Fitting 3 folds for each of 100 candidates, totalling 300 fits\n",
            "Best parameters found for Random Forest Regression:\n",
            "{'n_estimators': 50, 'min_samples_split': 10, 'min_samples_leaf': 2, 'max_features': 'sqrt', 'max_depth': None, 'bootstrap': False}\n"
          ]
        }
      ]
    },
    {
      "cell_type": "code",
      "source": [
        "from sklearn.model_selection import RandomizedSearchCV\n",
        "from sklearn.tree import DecisionTreeRegressor\n",
        "\n",
        "param_grid = {\n",
        "    'max_depth': [None, 10, 20, 30, 40],\n",
        "    'min_samples_split': [2, 5, 10],\n",
        "    'min_samples_leaf': [1, 2, 4]\n",
        "}\n",
        "\n",
        "dt_regressor = DecisionTreeRegressor()\n",
        "\n",
        "dt_random = RandomizedSearchCV(estimator=dt_regressor, param_distributions=param_grid,\n",
        "                               n_iter=100, cv=3, verbose=2, random_state=42, n_jobs=-1)\n",
        "\n",
        "dt_random.fit(X_train, y_train)\n",
        "\n",
        "print(\"Best parameters found for Decision Tree Regression:\")\n",
        "print(dt_random.best_params_)"
      ],
      "metadata": {
        "colab": {
          "base_uri": "https://localhost:8080/"
        },
        "id": "WhXDVNgbbaUU",
        "outputId": "38a0b963-127c-4a37-bf63-b127053f997d"
      },
      "execution_count": null,
      "outputs": [
        {
          "output_type": "stream",
          "name": "stderr",
          "text": [
            "/usr/local/lib/python3.10/dist-packages/sklearn/model_selection/_search.py:305: UserWarning: The total space of parameters 45 is smaller than n_iter=100. Running 45 iterations. For exhaustive searches, use GridSearchCV.\n",
            "  warnings.warn(\n"
          ]
        },
        {
          "output_type": "stream",
          "name": "stdout",
          "text": [
            "Fitting 3 folds for each of 45 candidates, totalling 135 fits\n",
            "Best parameters found for Decision Tree Regression:\n",
            "{'min_samples_split': 10, 'min_samples_leaf': 4, 'max_depth': 10}\n"
          ]
        }
      ]
    },
    {
      "cell_type": "code",
      "source": [
        "# Let's create model from these metrics\n",
        "from sklearn.metrics import mean_squared_error\n",
        "\n",
        "# Create the Decision Tree Regression model with best parameters\n",
        "best_dt_regressor = DecisionTreeRegressor(min_samples_split=10, min_samples_leaf=4, max_depth=10)\n",
        "best_dt_regressor.fit(X_train, y_train)\n",
        "\n",
        "dt_predictions = best_dt_regressor.predict(X_test)\n",
        "\n",
        "dt_mse = mean_squared_error(y_test, dt_predictions)\n",
        "print(\"Mean Squared Error for Decision Tree Regression:\", dt_mse)\n",
        "\n",
        "# Create the Random Forest Regression model with best parameters\n",
        "best_rf_regressor = RandomForestRegressor(n_estimators=50, min_samples_split=10, min_samples_leaf=2,\n",
        "                                           max_features='sqrt', max_depth=None, bootstrap=False)\n",
        "best_rf_regressor.fit(X_train, y_train)\n",
        "\n",
        "rf_predictions = best_rf_regressor.predict(X_test)\n",
        "\n",
        "rf_mse = mean_squared_error(y_test, rf_predictions)\n",
        "print(\"Mean Squared Error for Random Forest Regression:\", rf_mse)"
      ],
      "metadata": {
        "colab": {
          "base_uri": "https://localhost:8080/"
        },
        "id": "nYX7i_Ued__s",
        "outputId": "11c5b7b3-ef4a-4c3e-c8f9-17f62f73bc2f"
      },
      "execution_count": null,
      "outputs": [
        {
          "output_type": "stream",
          "name": "stdout",
          "text": [
            "Mean Squared Error for Decision Tree Regression: 72889880.05547075\n",
            "Mean Squared Error for Random Forest Regression: 93215268.38043626\n"
          ]
        }
      ]
    },
    {
      "cell_type": "markdown",
      "source": [
        "## Decision Tree Regression is the Ideal Model for this Task\n",
        "If you're looking for a suitable model for this task, Decision Tree Regression stands out as the optimal choice."
      ],
      "metadata": {
        "id": "BMNhTnz4iIIa"
      }
    },
    {
      "cell_type": "code",
      "source": [
        "# Let's save the best Random Forest Regression model as a pickle file\n",
        "import pickle\n",
        "\n",
        "with open('best_rf_regressor.pkl', 'wb') as file:\n",
        "    pickle.dump(rf_random, file)"
      ],
      "metadata": {
        "id": "gIeL2M68qIMC"
      },
      "execution_count": 200,
      "outputs": []
    },
    {
      "cell_type": "markdown",
      "source": [
        "# Neural Network Model Development"
      ],
      "metadata": {
        "id": "N2VZaKBBlPtD"
      }
    },
    {
      "cell_type": "code",
      "source": [
        "# Let's copy dataset\n",
        "nn_data = df.copy()"
      ],
      "metadata": {
        "id": "pWJy3NNOlJ48"
      },
      "execution_count": 187,
      "outputs": []
    },
    {
      "cell_type": "code",
      "source": [
        "# Let's define target and input value\n",
        "X = ml_data.drop('SALARY', axis =1)\n",
        "y = ml_data['SALARY']"
      ],
      "metadata": {
        "id": "gxeu3DxVd_4g"
      },
      "execution_count": 190,
      "outputs": []
    },
    {
      "cell_type": "code",
      "source": [
        "# Let's divide dataset to train and test data\n",
        "from sklearn.model_selection import train_test_split\n",
        "\n",
        "X_train, X_test, y_train, y_test = train_test_split(X, y, test_size=0.2, random_state=42)"
      ],
      "metadata": {
        "id": "NWbSOOLkd_yo"
      },
      "execution_count": 191,
      "outputs": []
    },
    {
      "cell_type": "code",
      "source": [
        "from sklearn.model_selection import train_test_split\n",
        "from sklearn.preprocessing import StandardScaler\n",
        "from tensorflow.keras.models import Sequential\n",
        "from tensorflow.keras.layers import Dense, Dropout\n",
        "from tensorflow.keras.callbacks import EarlyStopping\n",
        "\n",
        "# Standardize the features\n",
        "scaler = StandardScaler()\n",
        "X_train_scaled = scaler.fit_transform(X_train)\n",
        "X_test_scaled = scaler.transform(X_test)\n",
        "\n",
        "# Build the neural network model\n",
        "model = Sequential([\n",
        "    Dense(64, activation='relu', input_shape=(X_train_scaled.shape[1],)),\n",
        "    Dropout(0.2),\n",
        "    Dense(32, activation='relu'),\n",
        "    Dropout(0.2),\n",
        "    Dense(1)  # Output layer\n",
        "])\n",
        "\n",
        "# Compile the model\n",
        "model.compile(optimizer='adam', loss='mean_squared_error')\n",
        "\n",
        "# Define early stopping to prevent overfitting\n",
        "early_stopping = EarlyStopping(monitor='val_loss', patience=5, restore_best_weights=True)\n",
        "\n",
        "# Train the model\n",
        "history = model.fit(X_train_scaled, y_train, epochs=10, batch_size=32, validation_split=0.2, callbacks=[early_stopping])\n",
        "\n",
        "# Evaluate the model\n",
        "mse = model.evaluate(X_test_scaled, y_test)\n",
        "print(\"Mean Squared Error on Test Set:\", mse)"
      ],
      "metadata": {
        "id": "gHe_ALIxiOGl",
        "colab": {
          "base_uri": "https://localhost:8080/"
        },
        "outputId": "d8ffde9a-0f0d-4a36-a0c5-105fa77f2e6d"
      },
      "execution_count": 193,
      "outputs": [
        {
          "output_type": "stream",
          "name": "stdout",
          "text": [
            "Epoch 1/10\n",
            "53/53 [==============================] - 2s 11ms/step - loss: 4637314560.0000 - val_loss: 4949163520.0000\n",
            "Epoch 2/10\n",
            "53/53 [==============================] - 0s 5ms/step - loss: 4636157440.0000 - val_loss: 4947003904.0000\n",
            "Epoch 3/10\n",
            "53/53 [==============================] - 0s 5ms/step - loss: 4632340480.0000 - val_loss: 4940452352.0000\n",
            "Epoch 4/10\n",
            "53/53 [==============================] - 0s 5ms/step - loss: 4622267392.0000 - val_loss: 4925029888.0000\n",
            "Epoch 5/10\n",
            "53/53 [==============================] - 0s 6ms/step - loss: 4601481216.0000 - val_loss: 4896334848.0000\n",
            "Epoch 6/10\n",
            "53/53 [==============================] - 0s 3ms/step - loss: 4567560704.0000 - val_loss: 4849502208.0000\n",
            "Epoch 7/10\n",
            "53/53 [==============================] - 0s 3ms/step - loss: 4514263040.0000 - val_loss: 4780336128.0000\n",
            "Epoch 8/10\n",
            "53/53 [==============================] - 0s 3ms/step - loss: 4439386112.0000 - val_loss: 4685101056.0000\n",
            "Epoch 9/10\n",
            "53/53 [==============================] - 0s 3ms/step - loss: 4333011456.0000 - val_loss: 4562032640.0000\n",
            "Epoch 10/10\n",
            "53/53 [==============================] - 0s 4ms/step - loss: 4211214080.0000 - val_loss: 4412705792.0000\n",
            "17/17 [==============================] - 0s 2ms/step - loss: 4413006336.0000\n",
            "Mean Squared Error on Test Set: 4413006336.0\n"
          ]
        }
      ]
    },
    {
      "cell_type": "code",
      "source": [
        "# Optionally, visualize training history\n",
        "import matplotlib.pyplot as plt\n",
        "\n",
        "plt.plot(history.history['loss'], label='Training Loss')\n",
        "plt.plot(history.history['val_loss'], label='Validation Loss')\n",
        "plt.xlabel('Epoch')\n",
        "plt.ylabel('Loss')\n",
        "plt.legend()\n",
        "plt.show()"
      ],
      "metadata": {
        "id": "sXVGr03siOAi",
        "colab": {
          "base_uri": "https://localhost:8080/",
          "height": 465
        },
        "outputId": "d0502152-394d-4e89-9dba-8179141c8ee0"
      },
      "execution_count": 194,
      "outputs": [
        {
          "output_type": "display_data",
          "data": {
            "text/plain": [
              "<Figure size 640x480 with 1 Axes>"
            ],
            "image/png": "[encoded data removed]"
          },
          "metadata": {}
        }
      ]
    },
    {
      "cell_type": "markdown",
      "source": [
        "# Model Evaluation"
      ],
      "metadata": {
        "id": "cjKuqBQImuXq"
      }
    },
    {
      "cell_type": "code",
      "source": [
        "from sklearn.metrics import mean_absolute_error, mean_squared_error, r2_score\n",
        "\n",
        "# Let's predictions for Random Forest Regression\n",
        "rf_y_pred = rf_random.predict(X_test)\n",
        "\n",
        "rf_mae = mean_absolute_error(y_test, rf_y_pred)\n",
        "rf_mse = mean_squared_error(y_test, rf_y_pred)\n",
        "rf_rmse = mean_squared_error(y_test, rf_y_pred, squared=False)  # RMSE\n",
        "rf_r2 = r2_score(y_test, rf_y_pred)\n",
        "\n",
        "print(\"Random Forest Regression Evaluation Metrics:\")\n",
        "print(\"MAE:\", rf_mae)\n",
        "print(\"MSE:\", rf_mse)\n",
        "print(\"RMSE:\", rf_rmse)\n",
        "print(\"R2 Score:\", rf_r2)\n",
        "print()\n",
        "\n",
        "dt_y_pred = dt_random.predict(X_test)\n",
        "\n",
        "dt_mae = mean_absolute_error(y_test, dt_y_pred)\n",
        "dt_mse = mean_squared_error(y_test, dt_y_pred)\n",
        "dt_rmse = mean_squared_error(y_test, dt_y_pred, squared=False)  # RMSE\n",
        "dt_r2 = r2_score(y_test, dt_y_pred)\n",
        "\n",
        "print(\"Decision Tree Regression Evaluation Metrics:\")\n",
        "print(\"MAE:\", dt_mae)\n",
        "print(\"MSE:\", dt_mse)\n",
        "print(\"RMSE:\", dt_rmse)\n",
        "print(\"R2 Score:\", dt_r2)"
      ],
      "metadata": {
        "colab": {
          "base_uri": "https://localhost:8080/"
        },
        "id": "S8lDViZvmvnS",
        "outputId": "3b8c45d8-ecaa-4427-83d3-2ea4c9c7fe32"
      },
      "execution_count": 196,
      "outputs": [
        {
          "output_type": "stream",
          "name": "stdout",
          "text": [
            "Random Forest Regression Evaluation Metrics:\n",
            "MAE: 4300.637791255544\n",
            "MSE: 92311321.5898421\n",
            "RMSE: 9607.878100280108\n",
            "R2 Score: 0.9408817206096577\n",
            "\n",
            "Decision Tree Regression Evaluation Metrics:\n",
            "MAE: 4363.831691726255\n",
            "MSE: 72889880.05547075\n",
            "RMSE: 8537.557030876616\n",
            "R2 Score: 0.9533196554915098\n"
          ]
        }
      ]
    },
    {
      "cell_type": "markdown",
      "source": [
        "# ML Pipelines and Model Deployment"
      ],
      "metadata": {
        "id": "HhbrXLr-oaQS"
      }
    },
    {
      "cell_type": "code",
      "source": [
        "import pandas as pd\n",
        "import pickle\n",
        "\n",
        "# Load the trained Random Forest Regression model\n",
        "with open('best_rf_regressor.pkl', 'rb') as file:\n",
        "    best_rf_regressor = pickle.load(file)\n",
        "\n",
        "\n",
        "# Define preprocessing function\n",
        "def preprocess_input(data):\n",
        "    df = pd.DataFrame(data, index=[0])\n",
        "\n",
        "    df['DOJ'] = pd.to_datetime(df['DOJ'])\n",
        "    df['Month_doj'] = df['DOJ'].dt.month\n",
        "    df['Year_doj'] = df['DOJ'].dt.year\n",
        "\n",
        "    # Group age and past experience\n",
        "    def age_group(age):\n",
        "        if age <= 25:\n",
        "            return '<= 25'\n",
        "        elif age <= 36:\n",
        "            return '25-36'\n",
        "        elif age <= 42:\n",
        "            return '37-42'\n",
        "        else:\n",
        "            return '42 <'\n",
        "\n",
        "    def past_exp_group(exp):\n",
        "        if exp <= 3:\n",
        "            return '<= 3'\n",
        "        elif exp <= 10:\n",
        "            return '3-10'\n",
        "        elif exp <= 18:\n",
        "            return '10-18'\n",
        "        else:\n",
        "            return '18 <'\n",
        "\n",
        "    df['Age_group'] = df['AGE'].apply(lambda x: age_group(x))\n",
        "    df['Past_exp_group'] = df['PAST EXP'].apply(lambda x: past_exp_group(x))\n",
        "\n",
        "    # Calculate percentage of leaves used\n",
        "    df['Percent_leaves'] = round(df['LEAVES USED'] / (df['LEAVES USED'] + df['LEAVES REMAINING']), 3)\n",
        "\n",
        "    # Calculate tenure\n",
        "    df['TENURE'] = (pd.to_datetime(df['CURRENT DATE']) - df['DOJ']).dt.days / 365.25\n",
        "\n",
        "    # One-hot encode categorical features\n",
        "    df = pd.get_dummies(df, columns=['SEX', 'DESIGNATION', 'UNIT', 'Past_exp_group', 'Age_group'], drop_first=True)\n",
        "\n",
        "    # Remove unnecessary columns\n",
        "    df.drop(columns=['FIRST NAME', 'LAST NAME', 'DOJ', 'CURRENT DATE'], inplace=True)\n",
        "\n",
        "    # Convert bool columns to int\n",
        "    for col in df.select_dtypes(include=bool):\n",
        "        df[col] = df[col].astype(int)\n",
        "\n",
        "    columns_to_add = ['AGE', 'LEAVES USED', 'LEAVES REMAINING', 'RATINGS', 'PAST EXP',\n",
        "       'Month_doj', 'Year_doj', 'Percent_leaves', 'TENURE', 'SEX_M',\n",
        "       'DESIGNATION_Associate', 'DESIGNATION_Director', 'DESIGNATION_Manager',\n",
        "       'DESIGNATION_Senior Analyst', 'DESIGNATION_Senior Manager', 'UNIT_IT',\n",
        "       'UNIT_Management', 'UNIT_Marketing', 'UNIT_Operations', 'UNIT_Web',\n",
        "       'Past_exp_group_18 <', 'Past_exp_group_3-10', 'Past_exp_group_<= 3',\n",
        "       'Age_group_37-42', 'Age_group_42 <', 'Age_group_<= 25']\n",
        "\n",
        "    # Add missing columns with default value of 0\n",
        "    for column in columns_to_add:\n",
        "        if column not in df.columns:\n",
        "            df[column] = 0\n",
        "\n",
        "    return df\n",
        "\n",
        "# Define function to predict salary\n",
        "def predict_salary(first_name, last_name, sex, date_of_joining, current_date, designation, age,unit, leaves_used, leaves_remaining, ratings, past_experience):\n",
        "    # Preprocess input data\n",
        "    input_data = preprocess_input({\n",
        "        \"FIRST NAME\": first_name,\n",
        "        \"LAST NAME\": last_name,\n",
        "        \"SEX\": sex,\n",
        "        \"DOJ\": date_of_joining,\n",
        "        \"CURRENT DATE\": current_date,\n",
        "        \"DESIGNATION\": designation,\n",
        "        \"AGE\": age,\n",
        "        \"UNIT\": unit,\n",
        "        \"LEAVES USED\": leaves_used,\n",
        "        \"LEAVES REMAINING\": leaves_remaining,\n",
        "        \"RATINGS\": ratings,\n",
        "        \"PAST EXP\": past_experience\n",
        "    })\n",
        "\n",
        "    input_data = input_data[['AGE', 'LEAVES USED', 'LEAVES REMAINING', 'RATINGS', 'PAST EXP',\n",
        "       'Month_doj', 'Year_doj', 'Percent_leaves', 'TENURE', 'SEX_M',\n",
        "       'DESIGNATION_Associate', 'DESIGNATION_Director', 'DESIGNATION_Manager',\n",
        "       'DESIGNATION_Senior Analyst', 'DESIGNATION_Senior Manager', 'UNIT_IT',\n",
        "       'UNIT_Management', 'UNIT_Marketing', 'UNIT_Operations', 'UNIT_Web',\n",
        "       'Past_exp_group_18 <', 'Past_exp_group_3-10', 'Past_exp_group_<= 3',\n",
        "       'Age_group_37-42', 'Age_group_42 <', 'Age_group_<= 25']]\n",
        "\n",
        "    # Predict salary using the trained model\n",
        "    salary_prediction = best_rf_regressor.predict(input_data)\n",
        "    result = f'Dear {first_name} {last_name}, your predicted salary is ${salary_prediction[0]:,.2f}'\n",
        "    return result"
      ],
      "metadata": {
        "id": "9FC9svFciN7f"
      },
      "execution_count": null,
      "outputs": []
    },
    {
      "cell_type": "markdown",
      "source": [
        "Deploy (Gradio)"
      ],
      "metadata": {
        "id": "rvUmlz9aFhJE"
      }
    },
    {
      "cell_type": "code",
      "source": [
        "!pip install gradio"
      ],
      "metadata": {
        "colab": {
          "base_uri": "https://localhost:8080/"
        },
        "id": "s9dxQCdns-8Z",
        "outputId": "56de0237-5ba3-43b1-a697-9c96aba5b567"
      },
      "execution_count": 3,
      "outputs": [
        {
          "output_type": "stream",
          "name": "stdout",
          "text": [
            "Collecting gradio\n",
            "  Downloading gradio-4.32.1-py3-none-any.whl (12.3 MB)\n",
            "\u001b[2K     \u001b[90m━━━━━━━━━━━━━━━━━━━━━━━━━━━━━━━━━━━━━━━━\u001b[0m \u001b[32m12.3/12.3 MB\u001b[0m \u001b[31m54.2 MB/s\u001b[0m eta \u001b[36m0:00:00\u001b[0m\n",
            "\u001b[?25hCollecting aiofiles<24.0,>=22.0 (from gradio)\n",
            "  Downloading aiofiles-23.2.1-py3-none-any.whl (15 kB)\n",
            "Requirement already satisfied: altair<6.0,>=4.2.0 in /usr/local/lib/python3.10/dist-packages (from gradio) (4.2.2)\n",
            "Collecting fastapi (from gradio)\n",
            "  Downloading fastapi-0.111.0-py3-none-any.whl (91 kB)\n",
            "\u001b[2K     \u001b[90m━━━━━━━━━━━━━━━━━━━━━━━━━━━━━━━━━━━━━━━━\u001b[0m \u001b[32m92.0/92.0 kB\u001b[0m \u001b[31m10.8 MB/s\u001b[0m eta \u001b[36m0:00:00\u001b[0m\n",
            "\u001b[?25hCollecting ffmpy (from gradio)\n",
            "  Downloading ffmpy-0.3.2.tar.gz (5.5 kB)\n",
            "  Preparing metadata (setup.py) ... \u001b[?25l\u001b[?25hdone\n",
            "Collecting gradio-client==0.17.0 (from gradio)\n",
            "  Downloading gradio_client-0.17.0-py3-none-any.whl (316 kB)\n",
            "\u001b[2K     \u001b[90m━━━━━━━━━━━━━━━━━━━━━━━━━━━━━━━━━━━━━━━━\u001b[0m \u001b[32m316.3/316.3 kB\u001b[0m \u001b[31m26.9 MB/s\u001b[0m eta \u001b[36m0:00:00\u001b[0m\n",
            "\u001b[?25hCollecting httpx>=0.24.1 (from gradio)\n",
            "  Downloading httpx-0.27.0-py3-none-any.whl (75 kB)\n",
            "\u001b[2K     \u001b[90m━━━━━━━━━━━━━━━━━━━━━━━━━━━━━━━━━━━━━━━━\u001b[0m \u001b[32m75.6/75.6 kB\u001b[0m \u001b[31m8.6 MB/s\u001b[0m eta \u001b[36m0:00:00\u001b[0m\n",
            "\u001b[?25hRequirement already satisfied: huggingface-hub>=0.19.3 in /usr/local/lib/python3.10/dist-packages (from gradio) (0.23.1)\n",
            "Requirement already satisfied: importlib-resources<7.0,>=1.3 in /usr/local/lib/python3.10/dist-packages (from gradio) (6.4.0)\n",
            "Requirement already satisfied: jinja2<4.0 in /usr/local/lib/python3.10/dist-packages (from gradio) (3.1.4)\n",
            "Requirement already satisfied: markupsafe~=2.0 in /usr/local/lib/python3.10/dist-packages (from gradio) (2.1.5)\n",
            "Requirement already satisfied: matplotlib~=3.0 in /usr/local/lib/python3.10/dist-packages (from gradio) (3.7.1)\n",
            "Requirement already satisfied: numpy~=1.0 in /usr/local/lib/python3.10/dist-packages (from gradio) (1.25.2)\n",
            "Collecting orjson~=3.0 (from gradio)\n",
            "  Downloading orjson-3.10.3-cp310-cp310-manylinux_2_17_x86_64.manylinux2014_x86_64.whl (142 kB)\n",
            "\u001b[2K     \u001b[90m━━━━━━━━━━━━━━━━━━━━━━━━━━━━━━━━━━━━━━━━\u001b[0m \u001b[32m142.5/142.5 kB\u001b[0m \u001b[31m12.2 MB/s\u001b[0m eta \u001b[36m0:00:00\u001b[0m\n",
            "\u001b[?25hRequirement already satisfied: packaging in /usr/local/lib/python3.10/dist-packages (from gradio) (24.0)\n",
            "Requirement already satisfied: pandas<3.0,>=1.0 in /usr/local/lib/python3.10/dist-packages (from gradio) (2.0.3)\n",
            "Requirement already satisfied: pillow<11.0,>=8.0 in /usr/local/lib/python3.10/dist-packages (from gradio) (9.4.0)\n",
            "Requirement already satisfied: pydantic>=2.0 in /usr/local/lib/python3.10/dist-packages (from gradio) (2.7.1)\n",
            "Collecting pydub (from gradio)\n",
            "  Downloading pydub-0.25.1-py2.py3-none-any.whl (32 kB)\n",
            "Collecting python-multipart>=0.0.9 (from gradio)\n",
            "  Downloading python_multipart-0.0.9-py3-none-any.whl (22 kB)\n",
            "Requirement already satisfied: pyyaml<7.0,>=5.0 in /usr/local/lib/python3.10/dist-packages (from gradio) (6.0.1)\n",
            "Collecting ruff>=0.2.2 (from gradio)\n",
            "  Downloading ruff-0.4.6-py3-none-manylinux_2_17_x86_64.manylinux2014_x86_64.whl (8.8 MB)\n",
            "\u001b[2K     \u001b[90m━━━━━━━━━━━━━━━━━━━━━━━━━━━━━━━━━━━━━━━━\u001b[0m \u001b[32m8.8/8.8 MB\u001b[0m \u001b[31m64.6 MB/s\u001b[0m eta \u001b[36m0:00:00\u001b[0m\n",
            "\u001b[?25hCollecting semantic-version~=2.0 (from gradio)\n",
            "  Downloading semantic_version-2.10.0-py2.py3-none-any.whl (15 kB)\n",
            "Collecting tomlkit==0.12.0 (from gradio)\n",
            "  Downloading tomlkit-0.12.0-py3-none-any.whl (37 kB)\n",
            "Collecting typer<1.0,>=0.12 (from gradio)\n",
            "  Downloading typer-0.12.3-py3-none-any.whl (47 kB)\n",
            "\u001b[2K     \u001b[90m━━━━━━━━━━━━━━━━━━━━━━━━━━━━━━━━━━━━━━━━\u001b[0m \u001b[32m47.2/47.2 kB\u001b[0m \u001b[31m5.8 MB/s\u001b[0m eta \u001b[36m0:00:00\u001b[0m\n",
            "\u001b[?25hRequirement already satisfied: typing-extensions~=4.0 in /usr/local/lib/python3.10/dist-packages (from gradio) (4.11.0)\n",
            "Requirement already satisfied: urllib3~=2.0 in /usr/local/lib/python3.10/dist-packages (from gradio) (2.0.7)\n",
            "Collecting uvicorn>=0.14.0 (from gradio)\n",
            "  Downloading uvicorn-0.30.0-py3-none-any.whl (62 kB)\n",
            "\u001b[2K     \u001b[90m━━━━━━━━━━━━━━━━━━━━━━━━━━━━━━━━━━━━━━━━\u001b[0m \u001b[32m62.4/62.4 kB\u001b[0m \u001b[31m7.6 MB/s\u001b[0m eta \u001b[36m0:00:00\u001b[0m\n",
            "\u001b[?25hRequirement already satisfied: fsspec in /usr/local/lib/python3.10/dist-packages (from gradio-client==0.17.0->gradio) (2023.6.0)\n",
            "Collecting websockets<12.0,>=10.0 (from gradio-client==0.17.0->gradio)\n",
            "  Downloading websockets-11.0.3-cp310-cp310-manylinux_2_5_x86_64.manylinux1_x86_64.manylinux_2_17_x86_64.manylinux2014_x86_64.whl (129 kB)\n",
            "\u001b[2K     \u001b[90m━━━━━━━━━━━━━━━━━━━━━━━━━━━━━━━━━━━━━━━━\u001b[0m \u001b[32m129.9/129.9 kB\u001b[0m \u001b[31m13.9 MB/s\u001b[0m eta \u001b[36m0:00:00\u001b[0m\n",
            "\u001b[?25hRequirement already satisfied: entrypoints in /usr/local/lib/python3.10/dist-packages (from altair<6.0,>=4.2.0->gradio) (0.4)\n",
            "Requirement already satisfied: jsonschema>=3.0 in /usr/local/lib/python3.10/dist-packages (from altair<6.0,>=4.2.0->gradio) (4.19.2)\n",
            "Requirement already satisfied: toolz in /usr/local/lib/python3.10/dist-packages (from altair<6.0,>=4.2.0->gradio) (0.12.1)\n",
            "Requirement already satisfied: anyio in /usr/local/lib/python3.10/dist-packages (from httpx>=0.24.1->gradio) (3.7.1)\n",
            "Requirement already satisfied: certifi in /usr/local/lib/python3.10/dist-packages (from httpx>=0.24.1->gradio) (2024.2.2)\n",
            "Collecting httpcore==1.* (from httpx>=0.24.1->gradio)\n",
            "  Downloading httpcore-1.0.5-py3-none-any.whl (77 kB)\n",
            "\u001b[2K     \u001b[90m━━━━━━━━━━━━━━━━━━━━━━━━━━━━━━━━━━━━━━━━\u001b[0m \u001b[32m77.9/77.9 kB\u001b[0m \u001b[31m9.6 MB/s\u001b[0m eta \u001b[36m0:00:00\u001b[0m\n",
            "\u001b[?25hRequirement already satisfied: idna in /usr/local/lib/python3.10/dist-packages (from httpx>=0.24.1->gradio) (3.7)\n",
            "Requirement already satisfied: sniffio in /usr/local/lib/python3.10/dist-packages (from httpx>=0.24.1->gradio) (1.3.1)\n",
            "Collecting h11<0.15,>=0.13 (from httpcore==1.*->httpx>=0.24.1->gradio)\n",
            "  Downloading h11-0.14.0-py3-none-any.whl (58 kB)\n",
            "\u001b[2K     \u001b[90m━━━━━━━━━━━━━━━━━━━━━━━━━━━━━━━━━━━━━━━━\u001b[0m \u001b[32m58.3/58.3 kB\u001b[0m \u001b[31m6.7 MB/s\u001b[0m eta \u001b[36m0:00:00\u001b[0m\n",
            "\u001b[?25hRequirement already satisfied: filelock in /usr/local/lib/python3.10/dist-packages (from huggingface-hub>=0.19.3->gradio) (3.14.0)\n",
            "Requirement already satisfied: requests in /usr/local/lib/python3.10/dist-packages (from huggingface-hub>=0.19.3->gradio) (2.31.0)\n",
            "Requirement already satisfied: tqdm>=4.42.1 in /usr/local/lib/python3.10/dist-packages (from huggingface-hub>=0.19.3->gradio) (4.66.4)\n",
            "Requirement already satisfied: contourpy>=1.0.1 in /usr/local/lib/python3.10/dist-packages (from matplotlib~=3.0->gradio) (1.2.1)\n",
            "Requirement already satisfied: cycler>=0.10 in /usr/local/lib/python3.10/dist-packages (from matplotlib~=3.0->gradio) (0.12.1)\n",
            "Requirement already satisfied: fonttools>=4.22.0 in /usr/local/lib/python3.10/dist-packages (from matplotlib~=3.0->gradio) (4.51.0)\n",
            "Requirement already satisfied: kiwisolver>=1.0.1 in /usr/local/lib/python3.10/dist-packages (from matplotlib~=3.0->gradio) (1.4.5)\n",
            "Requirement already satisfied: pyparsing>=2.3.1 in /usr/local/lib/python3.10/dist-packages (from matplotlib~=3.0->gradio) (3.1.2)\n",
            "Requirement already satisfied: python-dateutil>=2.7 in /usr/local/lib/python3.10/dist-packages (from matplotlib~=3.0->gradio) (2.8.2)\n",
            "Requirement already satisfied: pytz>=2020.1 in /usr/local/lib/python3.10/dist-packages (from pandas<3.0,>=1.0->gradio) (2023.4)\n",
            "Requirement already satisfied: tzdata>=2022.1 in /usr/local/lib/python3.10/dist-packages (from pandas<3.0,>=1.0->gradio) (2024.1)\n",
            "Requirement already satisfied: annotated-types>=0.4.0 in /usr/local/lib/python3.10/dist-packages (from pydantic>=2.0->gradio) (0.7.0)\n",
            "Requirement already satisfied: pydantic-core==2.18.2 in /usr/local/lib/python3.10/dist-packages (from pydantic>=2.0->gradio) (2.18.2)\n",
            "Requirement already satisfied: click>=8.0.0 in /usr/local/lib/python3.10/dist-packages (from typer<1.0,>=0.12->gradio) (8.1.7)\n",
            "Collecting shellingham>=1.3.0 (from typer<1.0,>=0.12->gradio)\n",
            "  Downloading shellingham-1.5.4-py2.py3-none-any.whl (9.8 kB)\n",
            "Requirement already satisfied: rich>=10.11.0 in /usr/local/lib/python3.10/dist-packages (from typer<1.0,>=0.12->gradio) (13.7.1)\n",
            "Collecting starlette<0.38.0,>=0.37.2 (from fastapi->gradio)\n",
            "  Downloading starlette-0.37.2-py3-none-any.whl (71 kB)\n",
            "\u001b[2K     \u001b[90m━━━━━━━━━━━━━━━━━━━━━━━━━━━━━━━━━━━━━━━━\u001b[0m \u001b[32m71.9/71.9 kB\u001b[0m \u001b[31m6.4 MB/s\u001b[0m eta \u001b[36m0:00:00\u001b[0m\n",
            "\u001b[?25hCollecting fastapi-cli>=0.0.2 (from fastapi->gradio)\n",
            "  Downloading fastapi_cli-0.0.4-py3-none-any.whl (9.5 kB)\n",
            "Collecting ujson!=4.0.2,!=4.1.0,!=4.2.0,!=4.3.0,!=5.0.0,!=5.1.0,>=4.0.1 (from fastapi->gradio)\n",
            "  Downloading ujson-5.10.0-cp310-cp310-manylinux_2_17_x86_64.manylinux2014_x86_64.whl (53 kB)\n",
            "\u001b[2K     \u001b[90m━━━━━━━━━━━━━━━━━━━━━━━━━━━━━━━━━━━━━━━━\u001b[0m \u001b[32m53.6/53.6 kB\u001b[0m \u001b[31m6.4 MB/s\u001b[0m eta \u001b[36m0:00:00\u001b[0m\n",
            "\u001b[?25hCollecting email_validator>=2.0.0 (from fastapi->gradio)\n",
            "  Downloading email_validator-2.1.1-py3-none-any.whl (30 kB)\n",
            "Collecting dnspython>=2.0.0 (from email_validator>=2.0.0->fastapi->gradio)\n",
            "  Downloading dnspython-2.6.1-py3-none-any.whl (307 kB)\n",
            "\u001b[2K     \u001b[90m━━━━━━━━━━━━━━━━━━━━━━━━━━━━━━━━━━━━━━━━\u001b[0m \u001b[32m307.7/307.7 kB\u001b[0m \u001b[31m30.7 MB/s\u001b[0m eta \u001b[36m0:00:00\u001b[0m\n",
            "\u001b[?25hRequirement already satisfied: attrs>=22.2.0 in /usr/local/lib/python3.10/dist-packages (from jsonschema>=3.0->altair<6.0,>=4.2.0->gradio) (23.2.0)\n",
            "Requirement already satisfied: jsonschema-specifications>=2023.03.6 in /usr/local/lib/python3.10/dist-packages (from jsonschema>=3.0->altair<6.0,>=4.2.0->gradio) (2023.12.1)\n",
            "Requirement already satisfied: referencing>=0.28.4 in /usr/local/lib/python3.10/dist-packages (from jsonschema>=3.0->altair<6.0,>=4.2.0->gradio) (0.35.1)\n",
            "Requirement already satisfied: rpds-py>=0.7.1 in /usr/local/lib/python3.10/dist-packages (from jsonschema>=3.0->altair<6.0,>=4.2.0->gradio) (0.18.1)\n",
            "Requirement already satisfied: six>=1.5 in /usr/local/lib/python3.10/dist-packages (from python-dateutil>=2.7->matplotlib~=3.0->gradio) (1.16.0)\n",
            "Requirement already satisfied: markdown-it-py>=2.2.0 in /usr/local/lib/python3.10/dist-packages (from rich>=10.11.0->typer<1.0,>=0.12->gradio) (3.0.0)\n",
            "Requirement already satisfied: pygments<3.0.0,>=2.13.0 in /usr/local/lib/python3.10/dist-packages (from rich>=10.11.0->typer<1.0,>=0.12->gradio) (2.16.1)\n",
            "Requirement already satisfied: exceptiongroup in /usr/local/lib/python3.10/dist-packages (from anyio->httpx>=0.24.1->gradio) (1.2.1)\n",
            "Collecting httptools>=0.5.0 (from uvicorn>=0.14.0->gradio)\n",
            "  Downloading httptools-0.6.1-cp310-cp310-manylinux_2_5_x86_64.manylinux1_x86_64.manylinux_2_17_x86_64.manylinux2014_x86_64.whl (341 kB)\n",
            "\u001b[2K     \u001b[90m━━━━━━━━━━━━━━━━━━━━━━━━━━━━━━━━━━━━━━━━\u001b[0m \u001b[32m341.4/341.4 kB\u001b[0m \u001b[31m29.0 MB/s\u001b[0m eta \u001b[36m0:00:00\u001b[0m\n",
            "\u001b[?25hCollecting python-dotenv>=0.13 (from uvicorn>=0.14.0->gradio)\n",
            "  Downloading python_dotenv-1.0.1-py3-none-any.whl (19 kB)\n",
            "Collecting uvloop!=0.15.0,!=0.15.1,>=0.14.0 (from uvicorn>=0.14.0->gradio)\n",
            "  Downloading uvloop-0.19.0-cp310-cp310-manylinux_2_17_x86_64.manylinux2014_x86_64.whl (3.4 MB)\n",
            "\u001b[2K     \u001b[90m━━━━━━━━━━━━━━━━━━━━━━━━━━━━━━━━━━━━━━━━\u001b[0m \u001b[32m3.4/3.4 MB\u001b[0m \u001b[31m77.9 MB/s\u001b[0m eta \u001b[36m0:00:00\u001b[0m\n",
            "\u001b[?25hCollecting watchfiles>=0.13 (from uvicorn>=0.14.0->gradio)\n",
            "  Downloading watchfiles-0.22.0-cp310-cp310-manylinux_2_17_x86_64.manylinux2014_x86_64.whl (1.2 MB)\n",
            "\u001b[2K     \u001b[90m━━━━━━━━━━━━━━━━━━━━━━━━━━━━━━━━━━━━━━━━\u001b[0m \u001b[32m1.2/1.2 MB\u001b[0m \u001b[31m53.5 MB/s\u001b[0m eta \u001b[36m0:00:00\u001b[0m\n",
            "\u001b[?25hRequirement already satisfied: charset-normalizer<4,>=2 in /usr/local/lib/python3.10/dist-packages (from requests->huggingface-hub>=0.19.3->gradio) (3.3.2)\n",
            "Requirement already satisfied: mdurl~=0.1 in /usr/local/lib/python3.10/dist-packages (from markdown-it-py>=2.2.0->rich>=10.11.0->typer<1.0,>=0.12->gradio) (0.1.2)\n",
            "Building wheels for collected packages: ffmpy\n",
            "  Building wheel for ffmpy (setup.py) ... \u001b[?25l\u001b[?25hdone\n",
            "  Created wheel for ffmpy: filename=ffmpy-0.3.2-py3-none-any.whl size=5584 sha256=9f712b5f9e03c1f899b18d265c04cc592ab7398e7ed8bd9a0f08ac95ed24189a\n",
            "  Stored in directory: /root/.cache/pip/wheels/bd/65/9a/671fc6dcde07d4418df0c592f8df512b26d7a0029c2a23dd81\n",
            "Successfully built ffmpy\n",
            "Installing collected packages: pydub, ffmpy, websockets, uvloop, ujson, tomlkit, shellingham, semantic-version, ruff, python-multipart, python-dotenv, orjson, httptools, h11, dnspython, aiofiles, watchfiles, uvicorn, starlette, httpcore, email_validator, typer, httpx, gradio-client, fastapi-cli, fastapi, gradio\n",
            "  Attempting uninstall: typer\n",
            "    Found existing installation: typer 0.9.4\n",
            "    Uninstalling typer-0.9.4:\n",
            "      Successfully uninstalled typer-0.9.4\n",
            "\u001b[31mERROR: pip's dependency resolver does not currently take into account all the packages that are installed. This behaviour is the source of the following dependency conflicts.\n",
            "spacy 3.7.4 requires typer<0.10.0,>=0.3.0, but you have typer 0.12.3 which is incompatible.\n",
            "weasel 0.3.4 requires typer<0.10.0,>=0.3.0, but you have typer 0.12.3 which is incompatible.\u001b[0m\u001b[31m\n",
            "\u001b[0mSuccessfully installed aiofiles-23.2.1 dnspython-2.6.1 email_validator-2.1.1 fastapi-0.111.0 fastapi-cli-0.0.4 ffmpy-0.3.2 gradio-4.32.1 gradio-client-0.17.0 h11-0.14.0 httpcore-1.0.5 httptools-0.6.1 httpx-0.27.0 orjson-3.10.3 pydub-0.25.1 python-dotenv-1.0.1 python-multipart-0.0.9 ruff-0.4.6 semantic-version-2.10.0 shellingham-1.5.4 starlette-0.37.2 tomlkit-0.12.0 typer-0.12.3 ujson-5.10.0 uvicorn-0.30.0 uvloop-0.19.0 watchfiles-0.22.0 websockets-11.0.3\n"
          ]
        }
      ]
    },
    {
      "cell_type": "code",
      "source": [
        "import pandas as pd\n",
        "import pickle\n",
        "import gradio as gr\n",
        "\n",
        "# Define preprocessing function\n",
        "def preprocess_input(data):\n",
        "    df = pd.DataFrame(data, index=[0])\n",
        "\n",
        "    df['DOJ'] = pd.to_datetime(df['DOJ'])\n",
        "    df['Month_doj'] = df['DOJ'].dt.month\n",
        "    df['Year_doj'] = df['DOJ'].dt.year\n",
        "\n",
        "    # Group age and past experience\n",
        "    def age_group(age):\n",
        "        if age <= 25:\n",
        "            return '<= 25'\n",
        "        elif age <= 36:\n",
        "            return '25-36'\n",
        "        elif age <= 42:\n",
        "            return '37-42'\n",
        "        else:\n",
        "            return '42 <'\n",
        "\n",
        "    def past_exp_group(exp):\n",
        "        if exp <= 3:\n",
        "            return '<= 3'\n",
        "        elif exp <= 10:\n",
        "            return '3-10'\n",
        "        elif exp <= 18:\n",
        "            return '10-18'\n",
        "        else:\n",
        "            return '18 <'\n",
        "\n",
        "    df['Age_group'] = df['AGE'].apply(lambda x: age_group(x))\n",
        "    df['Past_exp_group'] = df['PAST EXP'].apply(lambda x: past_exp_group(x))\n",
        "\n",
        "    # Calculate percentage of leaves used\n",
        "    df['Percent_leaves'] = round(df['LEAVES USED'] / (df['LEAVES USED'] + df['LEAVES REMAINING']), 3)\n",
        "\n",
        "    # Calculate tenure\n",
        "    df['TENURE'] = (pd.to_datetime(df['CURRENT DATE']) - df['DOJ']).dt.days / 365.25\n",
        "\n",
        "    # One-hot encode categorical features\n",
        "    df = pd.get_dummies(df, columns=['SEX', 'DESIGNATION', 'UNIT', 'Past_exp_group', 'Age_group'], drop_first=True)\n",
        "\n",
        "    # Remove unnecessary columns\n",
        "    df.drop(columns=['FIRST NAME', 'LAST NAME', 'DOJ', 'CURRENT DATE'], inplace=True)\n",
        "\n",
        "    # Convert bool columns to int\n",
        "    for col in df.select_dtypes(include=bool):\n",
        "        df[col] = df[col].astype(int)\n",
        "\n",
        "    columns_to_add = ['AGE', 'LEAVES USED', 'LEAVES REMAINING', 'RATINGS', 'PAST EXP',\n",
        "       'Month_doj', 'Year_doj', 'Percent_leaves', 'TENURE', 'SEX_M',\n",
        "       'DESIGNATION_Associate', 'DESIGNATION_Director', 'DESIGNATION_Manager',\n",
        "       'DESIGNATION_Senior Analyst', 'DESIGNATION_Senior Manager', 'UNIT_IT',\n",
        "       'UNIT_Management', 'UNIT_Marketing', 'UNIT_Operations', 'UNIT_Web',\n",
        "       'Past_exp_group_18 <', 'Past_exp_group_3-10', 'Past_exp_group_<= 3',\n",
        "       'Age_group_37-42', 'Age_group_42 <', 'Age_group_<= 25']\n",
        "\n",
        "    # Add missing columns with default value of 0\n",
        "    for column in columns_to_add:\n",
        "        if column not in df.columns:\n",
        "            df[column] = 0\n",
        "\n",
        "    return df\n",
        "\n",
        "# Load the trained Random Forest Regression model\n",
        "with open('best_rf_regressor.pkl', 'rb') as file:\n",
        "    best_rf_regressor = pickle.load(file)\n",
        "\n",
        "# Define function to predict salary\n",
        "def predict_salary(first_name, last_name, sex, date_of_joining, current_date, designation, age,unit, leaves_used, leaves_remaining, ratings, past_experience):\n",
        "    # Preprocess input data\n",
        "    input_data = preprocess_input({\n",
        "        \"FIRST NAME\": first_name,\n",
        "        \"LAST NAME\": last_name,\n",
        "        \"SEX\": sex,\n",
        "        \"DOJ\": date_of_joining,\n",
        "        \"CURRENT DATE\": current_date,\n",
        "        \"DESIGNATION\": designation,\n",
        "        \"AGE\": age,\n",
        "        \"UNIT\": unit,\n",
        "        \"LEAVES USED\": leaves_used,\n",
        "        \"LEAVES REMAINING\": leaves_remaining,\n",
        "        \"RATINGS\": ratings,\n",
        "        \"PAST EXP\": past_experience\n",
        "    })\n",
        "\n",
        "    input_data = input_data[['AGE', 'LEAVES USED', 'LEAVES REMAINING', 'RATINGS', 'PAST EXP',\n",
        "       'Month_doj', 'Year_doj', 'Percent_leaves', 'TENURE', 'SEX_M',\n",
        "       'DESIGNATION_Associate', 'DESIGNATION_Director', 'DESIGNATION_Manager',\n",
        "       'DESIGNATION_Senior Analyst', 'DESIGNATION_Senior Manager', 'UNIT_IT',\n",
        "       'UNIT_Management', 'UNIT_Marketing', 'UNIT_Operations', 'UNIT_Web',\n",
        "       'Past_exp_group_18 <', 'Past_exp_group_3-10', 'Past_exp_group_<= 3',\n",
        "       'Age_group_37-42', 'Age_group_42 <', 'Age_group_<= 25']]\n",
        "\n",
        "    # Predict salary using the trained model\n",
        "    salary_prediction = best_rf_regressor.predict(input_data)\n",
        "    result = f'Dear {first_name} {last_name}, your predicted salary is ${salary_prediction[0]:,.2f}'\n",
        "    return result\n",
        "\n",
        "# Define Gradio interface\n",
        "interface = gr.Interface(\n",
        "    fn=predict_salary,\n",
        "    inputs=[\n",
        "        gr.Textbox(label=\"First Name\"),\n",
        "        gr.Textbox(label=\"Last Name\"),\n",
        "        gr.Radio(['Male', 'Female'], label=\"Sex\"),\n",
        "        gr.Textbox(label=\"Date of Joining (MM-DD-YYYY)\"),\n",
        "        gr.Textbox(label=\"Current Date  (MM-DD-YYYY)\"),\n",
        "        gr.Dropdown(['Analyst', 'Associate', 'Senior Analyst', 'Senior Manager','Manager', 'Director'], label=\"Designation\"),\n",
        "        gr.Number(label=\"Age\"),\n",
        "        gr.Dropdown(['Finance', 'Web', 'IT', 'Operations', 'Marketing', 'Management'], label=\"Unit\"),\n",
        "        gr.Number(label=\"Leaves Used\"),\n",
        "        gr.Number(label=\"Leaves Remaining\"),\n",
        "        gr.Number(label=\"Ratings\"),\n",
        "        gr.Number(label=\"Past Experience\"),\n",
        "    ],\n",
        "    outputs=gr.Textbox(label=\"Predicted Salary\"),\n",
        "    title=\"Salary Prediction Model\",\n",
        "    description=\"Enter details to predict salary.\"\n",
        ")\n",
        "\n",
        "# Launch the Gradio interface\n",
        "interface.launch()"
      ],
      "metadata": {
        "colab": {
          "base_uri": "https://localhost:8080/",
          "height": 626
        },
        "id": "cbPDEtuCp9zj",
        "outputId": "3ef80455-69c6-408c-95cd-3624bb580546"
      },
      "execution_count": 5,
      "outputs": [
        {
          "output_type": "stream",
          "name": "stdout",
          "text": [
            "Setting queue=True in a Colab notebook requires sharing enabled. Setting `share=True` (you can turn this off by setting `share=False` in `launch()` explicitly).\n",
            "\n",
            "Colab notebook detected. To show errors in colab notebook, set debug=True in launch()\n",
            "Running on public URL: https://d91df052330f7b8568.gradio.live\n",
            "\n",
            "This share link expires in 72 hours. For free permanent hosting and GPU upgrades, run `gradio deploy` from Terminal to deploy to Spaces (https://huggingface.co/spaces)\n"
          ]
        },
        {
          "output_type": "display_data",
          "data": {
            "text/plain": [
              "<IPython.core.display.HTML object>"
            ],
            "text/html": [
              "<div><iframe src=\"https://d91df052330f7b8568.gradio.live\" width=\"100%\" height=\"500\" allow=\"autoplay; camera; microphone; clipboard-read; clipboard-write;\" frameborder=\"0\" allowfullscreen></iframe></div>"
            ]
          },
          "metadata": {}
        },
        {
          "output_type": "execute_result",
          "data": {
            "text/plain": []
          },
          "metadata": {},
          "execution_count": 5
        }
      ]
    },
    {
      "cell_type": "markdown",
      "source": [
        "# 🔚The End"
      ],
      "metadata": {
        "id": "QzaMh4h6F-Lc"
      }
    }
  ]
}